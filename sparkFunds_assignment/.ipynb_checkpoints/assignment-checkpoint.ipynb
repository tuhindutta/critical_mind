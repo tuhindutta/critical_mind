{
 "cells": [
  {
   "cell_type": "markdown",
   "metadata": {},
   "source": [
    "# <font color='red'><u><b><i> ....INVESTMENT ASSIGNMENT...."
   ]
  },
  {
   "cell_type": "markdown",
   "metadata": {},
   "source": [
    "## <font color='blue'><u> Loading Data"
   ]
  },
  {
   "cell_type": "code",
   "execution_count": 1,
   "metadata": {},
   "outputs": [],
   "source": [
    "import numpy as np, pandas as pd, matplotlib.pyplot as plt, seaborn as sns\n",
    "%matplotlib inline\n",
    "# 'ISO-8859-1' encoding is used in loading of companies and rounds2 dataset since 'utf8' encoding is not supported.\n",
    "companies = pd.read_csv('companies.csv', encoding='ISO-8859-1')\n",
    "rounds2 = pd.read_csv('rounds2.csv', encoding='ISO-8859-1')\n",
    "mapping = pd.read_csv('mapping.csv')"
   ]
  },
  {
   "cell_type": "code",
   "execution_count": null,
   "metadata": {},
   "outputs": [],
   "source": []
  },
  {
   "cell_type": "code",
   "execution_count": null,
   "metadata": {},
   "outputs": [],
   "source": []
  },
  {
   "cell_type": "markdown",
   "metadata": {},
   "source": [
    "## <font color='blue'><u> Checkpoint 1: Data Cleaning 1"
   ]
  },
  {
   "cell_type": "code",
   "execution_count": 2,
   "metadata": {},
   "outputs": [],
   "source": [
    "# 'Unnamed' columns are removed\n",
    "companies=companies.iloc[:,:10]"
   ]
  },
  {
   "cell_type": "code",
   "execution_count": 3,
   "metadata": {},
   "outputs": [
    {
     "data": {
      "text/html": [
       "<div>\n",
       "<style scoped>\n",
       "    .dataframe tbody tr th:only-of-type {\n",
       "        vertical-align: middle;\n",
       "    }\n",
       "\n",
       "    .dataframe tbody tr th {\n",
       "        vertical-align: top;\n",
       "    }\n",
       "\n",
       "    .dataframe thead th {\n",
       "        text-align: right;\n",
       "    }\n",
       "</style>\n",
       "<table border=\"1\" class=\"dataframe\">\n",
       "  <thead>\n",
       "    <tr style=\"text-align: right;\">\n",
       "      <th></th>\n",
       "      <th>permalink</th>\n",
       "      <th>name</th>\n",
       "      <th>homepage_url</th>\n",
       "      <th>category_list</th>\n",
       "      <th>status</th>\n",
       "      <th>country_code</th>\n",
       "      <th>state_code</th>\n",
       "      <th>region</th>\n",
       "      <th>city</th>\n",
       "      <th>founded_at</th>\n",
       "    </tr>\n",
       "  </thead>\n",
       "  <tbody>\n",
       "  </tbody>\n",
       "</table>\n",
       "</div>"
      ],
      "text/plain": [
       "Empty DataFrame\n",
       "Columns: [permalink, name, homepage_url, category_list, status, country_code, state_code, region, city, founded_at]\n",
       "Index: []"
      ]
     },
     "execution_count": 3,
     "metadata": {},
     "output_type": "execute_result"
    }
   ],
   "source": [
    "# No duplicates found in companies dataset\n",
    "companies[companies.duplicated(['permalink'])]"
   ]
  },
  {
   "cell_type": "code",
   "execution_count": 4,
   "metadata": {},
   "outputs": [
    {
     "data": {
      "text/html": [
       "<div>\n",
       "<style scoped>\n",
       "    .dataframe tbody tr th:only-of-type {\n",
       "        vertical-align: middle;\n",
       "    }\n",
       "\n",
       "    .dataframe tbody tr th {\n",
       "        vertical-align: top;\n",
       "    }\n",
       "\n",
       "    .dataframe thead th {\n",
       "        text-align: right;\n",
       "    }\n",
       "</style>\n",
       "<table border=\"1\" class=\"dataframe\">\n",
       "  <thead>\n",
       "    <tr style=\"text-align: right;\">\n",
       "      <th></th>\n",
       "      <th>company_permalink</th>\n",
       "      <th>funding_round_permalink</th>\n",
       "      <th>funding_round_type</th>\n",
       "      <th>funding_round_code</th>\n",
       "      <th>funded_at</th>\n",
       "      <th>raised_amount_usd</th>\n",
       "    </tr>\n",
       "  </thead>\n",
       "  <tbody>\n",
       "    <tr>\n",
       "      <th>11</th>\n",
       "      <td>/ORGANIZATION/0XDATA</td>\n",
       "      <td>/funding-round/ae2a174c06517c2394aed45006322a7e</td>\n",
       "      <td>venture</td>\n",
       "      <td>NaN</td>\n",
       "      <td>03-01-2013</td>\n",
       "      <td>1700000.0</td>\n",
       "    </tr>\n",
       "    <tr>\n",
       "      <th>12</th>\n",
       "      <td>/organization/0xdata</td>\n",
       "      <td>/funding-round/e1cfcbe1bdf4c70277c5f29a3482f24e</td>\n",
       "      <td>venture</td>\n",
       "      <td>A</td>\n",
       "      <td>19-07-2014</td>\n",
       "      <td>8900000.0</td>\n",
       "    </tr>\n",
       "    <tr>\n",
       "      <th>15</th>\n",
       "      <td>/ORGANIZATION/1</td>\n",
       "      <td>/funding-round/e82464f22241715dd1a6c77241055ed1</td>\n",
       "      <td>seed</td>\n",
       "      <td>NaN</td>\n",
       "      <td>20-07-2011</td>\n",
       "      <td>1000050.0</td>\n",
       "    </tr>\n",
       "    <tr>\n",
       "      <th>26</th>\n",
       "      <td>/organization/10-20-media</td>\n",
       "      <td>/funding-round/a884bf8326b9fd59789c0f74a28dbc3b</td>\n",
       "      <td>debt_financing</td>\n",
       "      <td>NaN</td>\n",
       "      <td>28-12-2011</td>\n",
       "      <td>500000.0</td>\n",
       "    </tr>\n",
       "    <tr>\n",
       "      <th>27</th>\n",
       "      <td>/ORGANIZATION/10-20-MEDIA</td>\n",
       "      <td>/funding-round/d205f5416ce55e126beda3ed2bf2c2cd</td>\n",
       "      <td>debt_financing</td>\n",
       "      <td>NaN</td>\n",
       "      <td>30-03-2010</td>\n",
       "      <td>250000.0</td>\n",
       "    </tr>\n",
       "    <tr>\n",
       "      <th>...</th>\n",
       "      <td>...</td>\n",
       "      <td>...</td>\n",
       "      <td>...</td>\n",
       "      <td>...</td>\n",
       "      <td>...</td>\n",
       "      <td>...</td>\n",
       "    </tr>\n",
       "    <tr>\n",
       "      <th>114934</th>\n",
       "      <td>/organization/zyrra</td>\n",
       "      <td>/funding-round/7a0fa791c96c9c447ee54662395beab9</td>\n",
       "      <td>venture</td>\n",
       "      <td>NaN</td>\n",
       "      <td>18-10-2012</td>\n",
       "      <td>140500.0</td>\n",
       "    </tr>\n",
       "    <tr>\n",
       "      <th>114935</th>\n",
       "      <td>/ORGANIZATION/ZYRRA</td>\n",
       "      <td>/funding-round/cc8cd96a500332d5b4f4bcbddb306099</td>\n",
       "      <td>angel</td>\n",
       "      <td>NaN</td>\n",
       "      <td>15-12-2010</td>\n",
       "      <td>875000.0</td>\n",
       "    </tr>\n",
       "    <tr>\n",
       "      <th>114940</th>\n",
       "      <td>/organization/zzish</td>\n",
       "      <td>/funding-round/73721fffc980d228f051e87422aa8732</td>\n",
       "      <td>seed</td>\n",
       "      <td>NaN</td>\n",
       "      <td>24-03-2014</td>\n",
       "      <td>320000.0</td>\n",
       "    </tr>\n",
       "    <tr>\n",
       "      <th>114944</th>\n",
       "      <td>/organization/zzzzapp-com</td>\n",
       "      <td>/funding-round/8f6d25b8ee4199e586484d817bceda05</td>\n",
       "      <td>convertible_note</td>\n",
       "      <td>NaN</td>\n",
       "      <td>01-03-2014</td>\n",
       "      <td>41313.0</td>\n",
       "    </tr>\n",
       "    <tr>\n",
       "      <th>114945</th>\n",
       "      <td>/ORGANIZATION/ZZZZAPP-COM</td>\n",
       "      <td>/funding-round/ff1aa06ed5da186c84f101549035d4ae</td>\n",
       "      <td>seed</td>\n",
       "      <td>NaN</td>\n",
       "      <td>01-05-2013</td>\n",
       "      <td>32842.0</td>\n",
       "    </tr>\n",
       "  </tbody>\n",
       "</table>\n",
       "<p>24702 rows × 6 columns</p>\n",
       "</div>"
      ],
      "text/plain": [
       "                company_permalink  \\\n",
       "11           /ORGANIZATION/0XDATA   \n",
       "12           /organization/0xdata   \n",
       "15                /ORGANIZATION/1   \n",
       "26      /organization/10-20-media   \n",
       "27      /ORGANIZATION/10-20-MEDIA   \n",
       "...                           ...   \n",
       "114934        /organization/zyrra   \n",
       "114935        /ORGANIZATION/ZYRRA   \n",
       "114940        /organization/zzish   \n",
       "114944  /organization/zzzzapp-com   \n",
       "114945  /ORGANIZATION/ZZZZAPP-COM   \n",
       "\n",
       "                                funding_round_permalink funding_round_type  \\\n",
       "11      /funding-round/ae2a174c06517c2394aed45006322a7e            venture   \n",
       "12      /funding-round/e1cfcbe1bdf4c70277c5f29a3482f24e            venture   \n",
       "15      /funding-round/e82464f22241715dd1a6c77241055ed1               seed   \n",
       "26      /funding-round/a884bf8326b9fd59789c0f74a28dbc3b     debt_financing   \n",
       "27      /funding-round/d205f5416ce55e126beda3ed2bf2c2cd     debt_financing   \n",
       "...                                                 ...                ...   \n",
       "114934  /funding-round/7a0fa791c96c9c447ee54662395beab9            venture   \n",
       "114935  /funding-round/cc8cd96a500332d5b4f4bcbddb306099              angel   \n",
       "114940  /funding-round/73721fffc980d228f051e87422aa8732               seed   \n",
       "114944  /funding-round/8f6d25b8ee4199e586484d817bceda05   convertible_note   \n",
       "114945  /funding-round/ff1aa06ed5da186c84f101549035d4ae               seed   \n",
       "\n",
       "       funding_round_code   funded_at  raised_amount_usd  \n",
       "11                    NaN  03-01-2013          1700000.0  \n",
       "12                      A  19-07-2014          8900000.0  \n",
       "15                    NaN  20-07-2011          1000050.0  \n",
       "26                    NaN  28-12-2011           500000.0  \n",
       "27                    NaN  30-03-2010           250000.0  \n",
       "...                   ...         ...                ...  \n",
       "114934                NaN  18-10-2012           140500.0  \n",
       "114935                NaN  15-12-2010           875000.0  \n",
       "114940                NaN  24-03-2014           320000.0  \n",
       "114944                NaN  01-03-2014            41313.0  \n",
       "114945                NaN  01-05-2013            32842.0  \n",
       "\n",
       "[24702 rows x 6 columns]"
      ]
     },
     "execution_count": 4,
     "metadata": {},
     "output_type": "execute_result"
    }
   ],
   "source": [
    "# rounds2 duplicates are viewed\n",
    "rounds2[rounds2.duplicated(['company_permalink'])]"
   ]
  },
  {
   "cell_type": "code",
   "execution_count": 5,
   "metadata": {},
   "outputs": [
    {
     "data": {
      "text/html": [
       "<div>\n",
       "<style scoped>\n",
       "    .dataframe tbody tr th:only-of-type {\n",
       "        vertical-align: middle;\n",
       "    }\n",
       "\n",
       "    .dataframe tbody tr th {\n",
       "        vertical-align: top;\n",
       "    }\n",
       "\n",
       "    .dataframe thead th {\n",
       "        text-align: right;\n",
       "    }\n",
       "</style>\n",
       "<table border=\"1\" class=\"dataframe\">\n",
       "  <thead>\n",
       "    <tr style=\"text-align: right;\">\n",
       "      <th></th>\n",
       "      <th>company_permalink</th>\n",
       "      <th>funding_round_permalink</th>\n",
       "      <th>funding_round_type</th>\n",
       "      <th>funding_round_code</th>\n",
       "      <th>funded_at</th>\n",
       "      <th>raised_amount_usd</th>\n",
       "    </tr>\n",
       "  </thead>\n",
       "  <tbody>\n",
       "  </tbody>\n",
       "</table>\n",
       "</div>"
      ],
      "text/plain": [
       "Empty DataFrame\n",
       "Columns: [company_permalink, funding_round_permalink, funding_round_type, funding_round_code, funded_at, raised_amount_usd]\n",
       "Index: []"
      ]
     },
     "execution_count": 5,
     "metadata": {},
     "output_type": "execute_result"
    }
   ],
   "source": [
    "# rounds2 dataset duplicates are dropped\n",
    "rounds2.drop(rounds2[rounds2.duplicated(['company_permalink'])].index, inplace=True)\n",
    "rounds2[rounds2.duplicated(['company_permalink'])]"
   ]
  },
  {
   "cell_type": "code",
   "execution_count": 6,
   "metadata": {},
   "outputs": [],
   "source": [
    "# Removing the unwanted columns from companies and rounds2 dataset\n",
    "rounds2.drop(['funding_round_permalink','funding_round_code', 'funded_at'], axis=1, inplace=True)\n",
    "companies.drop(['homepage_url', 'status', 'state_code', 'region', 'city', 'founded_at'], axis=1, inplace=True)"
   ]
  },
  {
   "cell_type": "code",
   "execution_count": 7,
   "metadata": {},
   "outputs": [],
   "source": [
    "# company_permalink column is renamed to make it ready for merging with companies dataset\n",
    "# Other columns are renamed for convenience\n",
    "rounds2.rename(columns={'company_permalink' : 'permalink', 'funding_round_type' : 'fundType', 'raised_amount_usd' : 'amount'}, inplace=True)"
   ]
  },
  {
   "cell_type": "code",
   "execution_count": 8,
   "metadata": {},
   "outputs": [],
   "source": [
    "# Companies dataset columns are renamed for convenience\n",
    "companies.rename(columns={ 'country_code' : 'country'}, inplace=True)"
   ]
  },
  {
   "cell_type": "code",
   "execution_count": 9,
   "metadata": {},
   "outputs": [
    {
     "data": {
      "text/plain": [
       "True"
      ]
     },
     "execution_count": 9,
     "metadata": {},
     "output_type": "execute_result"
    }
   ],
   "source": [
    "# Are there any companies in the rounds2 file which are not  present in companies ?\n",
    "list(rounds2.permalink) not in list(companies.permalink)"
   ]
  },
  {
   "cell_type": "code",
   "execution_count": 10,
   "metadata": {},
   "outputs": [],
   "source": [
    "# Making permalink values lower case to make it feasible for merging on permalink column\n",
    "rounds2.permalink=rounds2.permalink.apply(lambda x: x.lower())\n",
    "companies.permalink=companies.permalink.apply(lambda x: x.lower())"
   ]
  },
  {
   "cell_type": "code",
   "execution_count": 11,
   "metadata": {},
   "outputs": [
    {
     "name": "stdout",
     "output_type": "stream",
     "text": [
      "<class 'pandas.core.frame.DataFrame'>\n",
      "Int64Index: 90247 entries, 0 to 114948\n",
      "Data columns (total 3 columns):\n",
      " #   Column     Non-Null Count  Dtype  \n",
      "---  ------     --------------  -----  \n",
      " 0   permalink  90247 non-null  object \n",
      " 1   fundType   90247 non-null  object \n",
      " 2   amount     72589 non-null  float64\n",
      "dtypes: float64(1), object(2)\n",
      "memory usage: 2.8+ MB\n"
     ]
    }
   ],
   "source": [
    "rounds2.info()"
   ]
  },
  {
   "cell_type": "code",
   "execution_count": 12,
   "metadata": {},
   "outputs": [
    {
     "data": {
      "text/html": [
       "<div>\n",
       "<style scoped>\n",
       "    .dataframe tbody tr th:only-of-type {\n",
       "        vertical-align: middle;\n",
       "    }\n",
       "\n",
       "    .dataframe tbody tr th {\n",
       "        vertical-align: top;\n",
       "    }\n",
       "\n",
       "    .dataframe thead th {\n",
       "        text-align: right;\n",
       "    }\n",
       "</style>\n",
       "<table border=\"1\" class=\"dataframe\">\n",
       "  <thead>\n",
       "    <tr style=\"text-align: right;\">\n",
       "      <th></th>\n",
       "      <th>permalink</th>\n",
       "      <th>fundType</th>\n",
       "      <th>amount</th>\n",
       "    </tr>\n",
       "  </thead>\n",
       "  <tbody>\n",
       "    <tr>\n",
       "      <th>0</th>\n",
       "      <td>/organization/-fame</td>\n",
       "      <td>venture</td>\n",
       "      <td>10000000.0</td>\n",
       "    </tr>\n",
       "    <tr>\n",
       "      <th>1</th>\n",
       "      <td>/organization/-qounter</td>\n",
       "      <td>venture</td>\n",
       "      <td>NaN</td>\n",
       "    </tr>\n",
       "    <tr>\n",
       "      <th>2</th>\n",
       "      <td>/organization/-qounter</td>\n",
       "      <td>seed</td>\n",
       "      <td>700000.0</td>\n",
       "    </tr>\n",
       "    <tr>\n",
       "      <th>3</th>\n",
       "      <td>/organization/-the-one-of-them-inc-</td>\n",
       "      <td>venture</td>\n",
       "      <td>3406878.0</td>\n",
       "    </tr>\n",
       "    <tr>\n",
       "      <th>4</th>\n",
       "      <td>/organization/0-6-com</td>\n",
       "      <td>venture</td>\n",
       "      <td>2000000.0</td>\n",
       "    </tr>\n",
       "  </tbody>\n",
       "</table>\n",
       "</div>"
      ],
      "text/plain": [
       "                             permalink fundType      amount\n",
       "0                  /organization/-fame  venture  10000000.0\n",
       "1               /organization/-qounter  venture         NaN\n",
       "2               /organization/-qounter     seed    700000.0\n",
       "3  /organization/-the-one-of-them-inc-  venture   3406878.0\n",
       "4                /organization/0-6-com  venture   2000000.0"
      ]
     },
     "execution_count": 12,
     "metadata": {},
     "output_type": "execute_result"
    }
   ],
   "source": [
    "rounds2.head()"
   ]
  },
  {
   "cell_type": "code",
   "execution_count": 13,
   "metadata": {},
   "outputs": [
    {
     "name": "stdout",
     "output_type": "stream",
     "text": [
      "<class 'pandas.core.frame.DataFrame'>\n",
      "RangeIndex: 66368 entries, 0 to 66367\n",
      "Data columns (total 4 columns):\n",
      " #   Column         Non-Null Count  Dtype \n",
      "---  ------         --------------  ----- \n",
      " 0   permalink      66368 non-null  object\n",
      " 1   name           66367 non-null  object\n",
      " 2   category_list  63220 non-null  object\n",
      " 3   country        59410 non-null  object\n",
      "dtypes: object(4)\n",
      "memory usage: 2.0+ MB\n"
     ]
    }
   ],
   "source": [
    "companies.info()"
   ]
  },
  {
   "cell_type": "code",
   "execution_count": 14,
   "metadata": {},
   "outputs": [
    {
     "data": {
      "text/html": [
       "<div>\n",
       "<style scoped>\n",
       "    .dataframe tbody tr th:only-of-type {\n",
       "        vertical-align: middle;\n",
       "    }\n",
       "\n",
       "    .dataframe tbody tr th {\n",
       "        vertical-align: top;\n",
       "    }\n",
       "\n",
       "    .dataframe thead th {\n",
       "        text-align: right;\n",
       "    }\n",
       "</style>\n",
       "<table border=\"1\" class=\"dataframe\">\n",
       "  <thead>\n",
       "    <tr style=\"text-align: right;\">\n",
       "      <th></th>\n",
       "      <th>permalink</th>\n",
       "      <th>name</th>\n",
       "      <th>category_list</th>\n",
       "      <th>country</th>\n",
       "    </tr>\n",
       "  </thead>\n",
       "  <tbody>\n",
       "    <tr>\n",
       "      <th>0</th>\n",
       "      <td>/organization/-fame</td>\n",
       "      <td>#fame</td>\n",
       "      <td>Media</td>\n",
       "      <td>IND</td>\n",
       "    </tr>\n",
       "    <tr>\n",
       "      <th>1</th>\n",
       "      <td>/organization/-qounter</td>\n",
       "      <td>:Qounter</td>\n",
       "      <td>Application Platforms|Real Time|Social Network...</td>\n",
       "      <td>USA</td>\n",
       "    </tr>\n",
       "    <tr>\n",
       "      <th>2</th>\n",
       "      <td>/organization/-the-one-of-them-inc-</td>\n",
       "      <td>(THE) ONE of THEM,Inc.</td>\n",
       "      <td>Apps|Games|Mobile</td>\n",
       "      <td>NaN</td>\n",
       "    </tr>\n",
       "    <tr>\n",
       "      <th>3</th>\n",
       "      <td>/organization/0-6-com</td>\n",
       "      <td>0-6.com</td>\n",
       "      <td>Curated Web</td>\n",
       "      <td>CHN</td>\n",
       "    </tr>\n",
       "    <tr>\n",
       "      <th>4</th>\n",
       "      <td>/organization/004-technologies</td>\n",
       "      <td>004 Technologies</td>\n",
       "      <td>Software</td>\n",
       "      <td>USA</td>\n",
       "    </tr>\n",
       "  </tbody>\n",
       "</table>\n",
       "</div>"
      ],
      "text/plain": [
       "                             permalink                    name  \\\n",
       "0                  /organization/-fame                   #fame   \n",
       "1               /organization/-qounter                :Qounter   \n",
       "2  /organization/-the-one-of-them-inc-  (THE) ONE of THEM,Inc.   \n",
       "3                /organization/0-6-com                 0-6.com   \n",
       "4       /organization/004-technologies        004 Technologies   \n",
       "\n",
       "                                       category_list country  \n",
       "0                                              Media     IND  \n",
       "1  Application Platforms|Real Time|Social Network...     USA  \n",
       "2                                  Apps|Games|Mobile     NaN  \n",
       "3                                        Curated Web     CHN  \n",
       "4                                           Software     USA  "
      ]
     },
     "execution_count": 14,
     "metadata": {},
     "output_type": "execute_result"
    }
   ],
   "source": [
    "companies.head()"
   ]
  },
  {
   "cell_type": "code",
   "execution_count": 15,
   "metadata": {},
   "outputs": [],
   "source": [
    "# Merging the datasets into master_frame dataset\n",
    "master_frame=rounds2.merge(companies, how='outer', on='permalink')"
   ]
  },
  {
   "cell_type": "code",
   "execution_count": 16,
   "metadata": {},
   "outputs": [
    {
     "data": {
      "text/html": [
       "<div>\n",
       "<style scoped>\n",
       "    .dataframe tbody tr th:only-of-type {\n",
       "        vertical-align: middle;\n",
       "    }\n",
       "\n",
       "    .dataframe tbody tr th {\n",
       "        vertical-align: top;\n",
       "    }\n",
       "\n",
       "    .dataframe thead th {\n",
       "        text-align: right;\n",
       "    }\n",
       "</style>\n",
       "<table border=\"1\" class=\"dataframe\">\n",
       "  <thead>\n",
       "    <tr style=\"text-align: right;\">\n",
       "      <th></th>\n",
       "      <th>permalink</th>\n",
       "      <th>fundType</th>\n",
       "      <th>amount</th>\n",
       "      <th>name</th>\n",
       "      <th>category_list</th>\n",
       "      <th>country</th>\n",
       "    </tr>\n",
       "  </thead>\n",
       "  <tbody>\n",
       "    <tr>\n",
       "      <th>0</th>\n",
       "      <td>/organization/-fame</td>\n",
       "      <td>venture</td>\n",
       "      <td>10000000.0</td>\n",
       "      <td>#fame</td>\n",
       "      <td>Media</td>\n",
       "      <td>IND</td>\n",
       "    </tr>\n",
       "    <tr>\n",
       "      <th>1</th>\n",
       "      <td>/organization/-qounter</td>\n",
       "      <td>venture</td>\n",
       "      <td>NaN</td>\n",
       "      <td>:Qounter</td>\n",
       "      <td>Application Platforms|Real Time|Social Network...</td>\n",
       "      <td>USA</td>\n",
       "    </tr>\n",
       "    <tr>\n",
       "      <th>2</th>\n",
       "      <td>/organization/-qounter</td>\n",
       "      <td>seed</td>\n",
       "      <td>700000.0</td>\n",
       "      <td>:Qounter</td>\n",
       "      <td>Application Platforms|Real Time|Social Network...</td>\n",
       "      <td>USA</td>\n",
       "    </tr>\n",
       "    <tr>\n",
       "      <th>3</th>\n",
       "      <td>/organization/-the-one-of-them-inc-</td>\n",
       "      <td>venture</td>\n",
       "      <td>3406878.0</td>\n",
       "      <td>(THE) ONE of THEM,Inc.</td>\n",
       "      <td>Apps|Games|Mobile</td>\n",
       "      <td>NaN</td>\n",
       "    </tr>\n",
       "    <tr>\n",
       "      <th>4</th>\n",
       "      <td>/organization/0-6-com</td>\n",
       "      <td>venture</td>\n",
       "      <td>2000000.0</td>\n",
       "      <td>0-6.com</td>\n",
       "      <td>Curated Web</td>\n",
       "      <td>CHN</td>\n",
       "    </tr>\n",
       "  </tbody>\n",
       "</table>\n",
       "</div>"
      ],
      "text/plain": [
       "                             permalink fundType      amount  \\\n",
       "0                  /organization/-fame  venture  10000000.0   \n",
       "1               /organization/-qounter  venture         NaN   \n",
       "2               /organization/-qounter     seed    700000.0   \n",
       "3  /organization/-the-one-of-them-inc-  venture   3406878.0   \n",
       "4                /organization/0-6-com  venture   2000000.0   \n",
       "\n",
       "                     name                                      category_list  \\\n",
       "0                   #fame                                              Media   \n",
       "1                :Qounter  Application Platforms|Real Time|Social Network...   \n",
       "2                :Qounter  Application Platforms|Real Time|Social Network...   \n",
       "3  (THE) ONE of THEM,Inc.                                  Apps|Games|Mobile   \n",
       "4                 0-6.com                                        Curated Web   \n",
       "\n",
       "  country  \n",
       "0     IND  \n",
       "1     USA  \n",
       "2     USA  \n",
       "3     NaN  \n",
       "4     CHN  "
      ]
     },
     "execution_count": 16,
     "metadata": {},
     "output_type": "execute_result"
    }
   ],
   "source": [
    "master_frame.head()"
   ]
  },
  {
   "cell_type": "code",
   "execution_count": 17,
   "metadata": {},
   "outputs": [
    {
     "name": "stdout",
     "output_type": "stream",
     "text": [
      "<class 'pandas.core.frame.DataFrame'>\n",
      "Int64Index: 90252 entries, 0 to 90251\n",
      "Data columns (total 6 columns):\n",
      " #   Column         Non-Null Count  Dtype  \n",
      "---  ------         --------------  -----  \n",
      " 0   permalink      90252 non-null  object \n",
      " 1   fundType       90247 non-null  object \n",
      " 2   amount         72589 non-null  float64\n",
      " 3   name           90244 non-null  object \n",
      " 4   category_list  86912 non-null  object \n",
      " 5   country        82173 non-null  object \n",
      "dtypes: float64(1), object(5)\n",
      "memory usage: 4.8+ MB\n"
     ]
    }
   ],
   "source": [
    "master_frame.info()"
   ]
  },
  {
   "cell_type": "code",
   "execution_count": 18,
   "metadata": {},
   "outputs": [
    {
     "data": {
      "text/html": [
       "<div>\n",
       "<style scoped>\n",
       "    .dataframe tbody tr th:only-of-type {\n",
       "        vertical-align: middle;\n",
       "    }\n",
       "\n",
       "    .dataframe tbody tr th {\n",
       "        vertical-align: top;\n",
       "    }\n",
       "\n",
       "    .dataframe thead th {\n",
       "        text-align: right;\n",
       "    }\n",
       "</style>\n",
       "<table border=\"1\" class=\"dataframe\">\n",
       "  <thead>\n",
       "    <tr style=\"text-align: right;\">\n",
       "      <th></th>\n",
       "      <th>permalink</th>\n",
       "      <th>fundType</th>\n",
       "      <th>amount</th>\n",
       "      <th>name</th>\n",
       "      <th>category_list</th>\n",
       "      <th>country</th>\n",
       "    </tr>\n",
       "  </thead>\n",
       "  <tbody>\n",
       "  </tbody>\n",
       "</table>\n",
       "</div>"
      ],
      "text/plain": [
       "Empty DataFrame\n",
       "Columns: [permalink, fundType, amount, name, category_list, country]\n",
       "Index: []"
      ]
     },
     "execution_count": 18,
     "metadata": {},
     "output_type": "execute_result"
    }
   ],
   "source": [
    "# These are the entries whose column values are shifted\n",
    "master_frame[(master_frame['country'].apply(lambda x: len(str(x))))>3]"
   ]
  },
  {
   "cell_type": "code",
   "execution_count": 19,
   "metadata": {},
   "outputs": [],
   "source": [
    "# Removing the column shifted values\n",
    "master_frame=master_frame[master_frame['country'].apply(lambda x: len(str(x)))<=3]"
   ]
  },
  {
   "cell_type": "code",
   "execution_count": 20,
   "metadata": {},
   "outputs": [
    {
     "data": {
      "text/plain": [
       "5"
      ]
     },
     "execution_count": 20,
     "metadata": {},
     "output_type": "execute_result"
    }
   ],
   "source": [
    "# Checking the no. of null values in fundtype\n",
    "master_frame.fundType.isnull().sum()"
   ]
  },
  {
   "cell_type": "code",
   "execution_count": 21,
   "metadata": {},
   "outputs": [
    {
     "data": {
      "text/plain": [
       "17663"
      ]
     },
     "execution_count": 21,
     "metadata": {},
     "output_type": "execute_result"
    }
   ],
   "source": [
    "# Checking the no. of null values in amount\n",
    "master_frame.amount.isnull().sum()"
   ]
  },
  {
   "cell_type": "markdown",
   "metadata": {},
   "source": [
    "#### Removing the null valued countries indices have been performed later during the first operation of country analysis. This measure has been taken to get a vast analytical overview during Fund Type Analysis since fund type analysis does not involve countries in any form of parameters."
   ]
  },
  {
   "cell_type": "code",
   "execution_count": 22,
   "metadata": {},
   "outputs": [],
   "source": [
    "# Removing the null valued fundType, amount and country\n",
    "master_frame=master_frame[~master_frame.fundType.isnull()]\n",
    "master_frame=master_frame[~master_frame.amount.isnull()]"
   ]
  },
  {
   "cell_type": "code",
   "execution_count": 23,
   "metadata": {},
   "outputs": [
    {
     "name": "stdout",
     "output_type": "stream",
     "text": [
      "<class 'pandas.core.frame.DataFrame'>\n",
      "Int64Index: 72589 entries, 0 to 90246\n",
      "Data columns (total 6 columns):\n",
      " #   Column         Non-Null Count  Dtype  \n",
      "---  ------         --------------  -----  \n",
      " 0   permalink      72589 non-null  object \n",
      " 1   fundType       72589 non-null  object \n",
      " 2   amount         72589 non-null  float64\n",
      " 3   name           72587 non-null  object \n",
      " 4   category_list  71565 non-null  object \n",
      " 5   country        67206 non-null  object \n",
      "dtypes: float64(1), object(5)\n",
      "memory usage: 3.9+ MB\n"
     ]
    }
   ],
   "source": [
    "master_frame.info()"
   ]
  },
  {
   "cell_type": "code",
   "execution_count": null,
   "metadata": {},
   "outputs": [],
   "source": []
  },
  {
   "cell_type": "code",
   "execution_count": null,
   "metadata": {},
   "outputs": [],
   "source": []
  },
  {
   "cell_type": "code",
   "execution_count": null,
   "metadata": {},
   "outputs": [],
   "source": []
  },
  {
   "cell_type": "code",
   "execution_count": null,
   "metadata": {},
   "outputs": [],
   "source": []
  },
  {
   "cell_type": "markdown",
   "metadata": {},
   "source": [
    "## <font color='blue'><u> Checkpoint 2: Funding Type Analysis"
   ]
  },
  {
   "cell_type": "code",
   "execution_count": 24,
   "metadata": {},
   "outputs": [],
   "source": [
    "# Sorting the master frame to have only venture, angel, seed, and private equity funding types\n",
    "master_frame = master_frame[master_frame.fundType.isin(['venture', 'angel', 'seed', 'private_equity'])]"
   ]
  },
  {
   "cell_type": "code",
   "execution_count": 25,
   "metadata": {},
   "outputs": [
    {
     "data": {
      "image/png": "[encoded data removed]",
      "text/plain": [
       "<Figure size 1080x360 with 1 Axes>"
      ]
     },
     "metadata": {
      "needs_background": "light"
     },
     "output_type": "display_data"
    },
    {
     "data": {
      "image/png": "[encoded data removed]",
      "text/plain": [
       "<Figure size 1080x360 with 1 Axes>"
      ]
     },
     "metadata": {
      "needs_background": "light"
     },
     "output_type": "display_data"
    },
    {
     "data": {
      "image/png": "[encoded data removed]",
      "text/plain": [
       "<Figure size 1080x360 with 1 Axes>"
      ]
     },
     "metadata": {
      "needs_background": "light"
     },
     "output_type": "display_data"
    }
   ],
   "source": [
    "# Plotting barplot of 'fundType' vs mean, median and sum of 'amount'\n",
    "master_frame.groupby('fundType')['amount'].mean().plot.bar(figsize=[15,5], width=0.1)\n",
    "plt.title('fundType vs. mean of amount of investment', fontsize=14)\n",
    "plt.grid(color='#95a5a6', linestyle='--', linewidth=2, axis='y', alpha=0.7)\n",
    "plt.show()\n",
    "master_frame.groupby('fundType')['amount'].median().plot.bar(figsize=[15,5], width=0.1)\n",
    "plt.title('fundType vs. median of amount of investment', fontsize=14)\n",
    "plt.grid(color='#95a5a6', linestyle='--', linewidth=2, axis='y', alpha=0.7)\n",
    "plt.show()\n",
    "master_frame.groupby('fundType')['amount'].sum().plot.bar(figsize=[15,5], width=0.1)\n",
    "plt.title('fundType vs. sum of amount of investment', fontsize=14)\n",
    "plt.grid(color='#95a5a6', linestyle='--', linewidth=2, axis='y', alpha=0.7)\n",
    "plt.show()"
   ]
  },
  {
   "cell_type": "markdown",
   "metadata": {},
   "source": [
    "### Veiwing and treating outliers"
   ]
  },
  {
   "cell_type": "code",
   "execution_count": 26,
   "metadata": {
    "scrolled": false
   },
   "outputs": [
    {
     "name": "stdout",
     "output_type": "stream",
     "text": [
      "venture outliers :-\n"
     ]
    },
    {
     "data": {
      "image/png": "[encoded data removed]",
      "text/plain": [
       "<Figure size 432x288 with 1 Axes>"
      ]
     },
     "metadata": {
      "needs_background": "light"
     },
     "output_type": "display_data"
    },
    {
     "name": "stdout",
     "output_type": "stream",
     "text": [
      "Upper fence set at = 24494635.0 \n",
      "\n",
      "venture after removal of extreme outliers :-\n",
      "             amount\n",
      "count  3.278700e+04\n",
      "mean   5.681076e+06\n",
      "std    5.607012e+06\n",
      "min    0.000000e+00\n",
      "25%    1.280000e+06\n",
      "50%    3.900000e+06\n",
      "75%    8.500000e+06\n",
      "max    2.448000e+07\n"
     ]
    },
    {
     "data": {
      "image/png": "[encoded data removed]",
      "text/plain": [
       "<Figure size 432x288 with 1 Axes>"
      ]
     },
     "metadata": {
      "needs_background": "light"
     },
     "output_type": "display_data"
    },
    {
     "name": "stdout",
     "output_type": "stream",
     "text": [
      "Median is 3900000.0 \n",
      "\n",
      "\n",
      "\n",
      "\n",
      "seed outliers :-\n"
     ]
    },
    {
     "data": {
      "image/png": "[encoded data removed]",
      "text/plain": [
       "<Figure size 432x288 with 1 Axes>"
      ]
     },
     "metadata": {
      "needs_background": "light"
     },
     "output_type": "display_data"
    },
    {
     "name": "stdout",
     "output_type": "stream",
     "text": [
      "Upper fence set at = 2378622.5 \n",
      "\n",
      "seed after removal of extreme outliers :-\n",
      "             amount\n",
      "count  1.932800e+04\n",
      "mean   4.819389e+05\n",
      "std    5.653838e+05\n",
      "min    0.000000e+00\n",
      "25%    5.000000e+04\n",
      "50%    2.305615e+05\n",
      "75%    7.500000e+05\n",
      "max    2.370000e+06\n"
     ]
    },
    {
     "data": {
      "image/png": "[encoded data removed]",
      "text/plain": [
       "<Figure size 432x288 with 1 Axes>"
      ]
     },
     "metadata": {
      "needs_background": "light"
     },
     "output_type": "display_data"
    },
    {
     "name": "stdout",
     "output_type": "stream",
     "text": [
      "Median is 230561.5 \n",
      "\n",
      "\n",
      "\n",
      "\n",
      "angel outliers :-\n"
     ]
    },
    {
     "data": {
      "image/png": "[encoded data removed]",
      "text/plain": [
       "<Figure size 432x288 with 1 Axes>"
      ]
     },
     "metadata": {
      "needs_background": "light"
     },
     "output_type": "display_data"
    },
    {
     "name": "stdout",
     "output_type": "stream",
     "text": [
      "Upper fence set at = 2150000.0 \n",
      "\n",
      "angel after removal of extreme outliers :-\n",
      "             amount\n",
      "count  3.745000e+03\n",
      "mean   5.171156e+05\n",
      "std    5.013657e+05\n",
      "min    0.000000e+00\n",
      "25%    1.350000e+05\n",
      "50%    3.500000e+05\n",
      "75%    7.500000e+05\n",
      "max    2.150000e+06\n"
     ]
    },
    {
     "data": {
      "image/png": "[encoded data removed]",
      "text/plain": [
       "<Figure size 432x288 with 1 Axes>"
      ]
     },
     "metadata": {
      "needs_background": "light"
     },
     "output_type": "display_data"
    },
    {
     "name": "stdout",
     "output_type": "stream",
     "text": [
      "Median is 350000.0 \n",
      "\n",
      "\n",
      "\n",
      "\n",
      "private_equity outliers :-\n"
     ]
    },
    {
     "data": {
      "image/png": "[encoded data removed]",
      "text/plain": [
       "<Figure size 432x288 with 1 Axes>"
      ]
     },
     "metadata": {
      "needs_background": "light"
     },
     "output_type": "display_data"
    },
    {
     "name": "stdout",
     "output_type": "stream",
     "text": [
      "Upper fence set at = 187061250.0 \n",
      "\n",
      "private_equity after removal of extreme outliers :-\n",
      "             amount\n",
      "count  1.286000e+03\n",
      "mean   3.518689e+07\n",
      "std    4.176406e+07\n",
      "min    0.000000e+00\n",
      "25%    4.302500e+06\n",
      "50%    1.500000e+07\n",
      "75%    5.775000e+07\n",
      "max    1.750000e+08\n"
     ]
    },
    {
     "data": {
      "image/png": "[encoded data removed]",
      "text/plain": [
       "<Figure size 432x288 with 1 Axes>"
      ]
     },
     "metadata": {
      "needs_background": "light"
     },
     "output_type": "display_data"
    },
    {
     "name": "stdout",
     "output_type": "stream",
     "text": [
      "Median is 15000000.0 \n",
      "\n",
      "\n",
      "\n",
      "\n"
     ]
    }
   ],
   "source": [
    "# The following funtion is to calculate the upper and lower fence in box plot\n",
    "#    Upper fence = Q3 + (1.5 * IQR)\n",
    "#    Lower fence = Q1 — (1.5 * IQR).\n",
    "def outlier(df):\n",
    "    uq=df.describe().iloc[-2,0] #75%\n",
    "    lq=df.describe().iloc[-4,0] #25%\n",
    "    iqr=1.5*(uq-lq)             #IQR\n",
    "    upperfence=uq+iqr\n",
    "    lowerfence=lq-iqr\n",
    "    return [upperfence, lowerfence]\n",
    "\n",
    "\n",
    "\n",
    "def out(ftype):\n",
    "    print(ftype,'outliers :-')\n",
    "    plt.boxplot(master_frame[master_frame['fundType']==ftype].amount)\n",
    "    plt.show()\n",
    "    \n",
    "    mf=(master_frame['fundType']==ftype) #Change the fund type only here to calculate the outliers accordingly and visualize the box plot.\n",
    "    data=pd.DataFrame(master_frame[mf].amount)\n",
    "\n",
    "    print('Upper fence set at =', outlier(data)[0],'\\n')\n",
    "    print(ftype,'after removal of extreme outliers :-')\n",
    "    print(master_frame[mf & (master_frame.amount<=outlier(data)[0])].describe())\n",
    "    plt.boxplot(master_frame[mf & (master_frame.amount<=outlier(data)[0])].amount)\n",
    "    plt.show()\n",
    "    print('Median is', pd.DataFrame(master_frame[(mf) & (master_frame.amount<=outlier(data)[0])].describe()).iloc[-3,0],'\\n\\n\\n\\n')\n",
    "    \n",
    "\n",
    "out('venture')\n",
    "out('seed')\n",
    "out('angel')\n",
    "out('private_equity')"
   ]
  },
  {
   "cell_type": "code",
   "execution_count": 27,
   "metadata": {},
   "outputs": [],
   "source": [
    "# Eliminating the extreme outliers from all fund round types in master_frame\n",
    "priv=(master_frame['fundType']=='private_equity') & (master_frame.amount<=outlier(pd.DataFrame(master_frame[(master_frame['fundType']=='private_equity')].amount))[0])\n",
    "vent=(master_frame['fundType']=='venture') & (master_frame.amount<=outlier(pd.DataFrame(master_frame[(master_frame['fundType']=='venture')].amount))[0])\n",
    "se=(master_frame['fundType']=='seed') & (master_frame.amount<=outlier(pd.DataFrame(master_frame[(master_frame['fundType']=='seed')].amount))[0])\n",
    "ang=(master_frame['fundType']=='angel') & (master_frame.amount<=outlier(pd.DataFrame(master_frame[(master_frame['fundType']=='angel')].amount))[0])\n",
    "master_frame=master_frame[priv | vent | se | ang]"
   ]
  },
  {
   "cell_type": "code",
   "execution_count": 28,
   "metadata": {},
   "outputs": [
    {
     "data": {
      "image/png": "[encoded data removed]",
      "text/plain": [
       "<Figure size 432x288 with 1 Axes>"
      ]
     },
     "metadata": {
      "needs_background": "light"
     },
     "output_type": "display_data"
    }
   ],
   "source": [
    "plt.boxplot(master_frame[(master_frame['fundType']=='private_equity')].amount)\n",
    "plt.show()"
   ]
  },
  {
   "cell_type": "code",
   "execution_count": 29,
   "metadata": {},
   "outputs": [
    {
     "name": "stdout",
     "output_type": "stream",
     "text": [
      "Private_equity investment count comprises of 1286 nos., i.e, around 2 % of all round types\n"
     ]
    }
   ],
   "source": [
    "print('Private_equity investment count comprises of', master_frame['fundType'].value_counts()[3], 'nos., i.e, around',round(100*(master_frame['fundType'].value_counts()[3]/master_frame['fundType'].value_counts().sum())),'% of all round types')"
   ]
  },
  {
   "cell_type": "markdown",
   "metadata": {},
   "source": [
    "### <b> <font color='#058d70'>Private equity investment count comprises of 1286 nos., i.e, around 2 % of all round types"
   ]
  },
  {
   "cell_type": "code",
   "execution_count": 30,
   "metadata": {},
   "outputs": [
    {
     "data": {
      "image/png": "[encoded data removed]",
      "text/plain": [
       "<Figure size 576x576 with 1 Axes>"
      ]
     },
     "metadata": {},
     "output_type": "display_data"
    }
   ],
   "source": [
    "master_frame['fundType'].value_counts().plot(kind='pie', figsize=[8,8], autopct=\"%.0f%%\", fontsize=12, explode=[0.05]*4)\n",
    "plt.title('Number of fundings', fontsize=14)\n",
    "plt.show()"
   ]
  },
  {
   "cell_type": "markdown",
   "metadata": {},
   "source": [
    "### <b> <font color='#058d70'>Median of investment amount of private equity furnding is 15 million USD, which is therefore most suitable for Spark Funds (considering that Spark Funds wants to invest between 5 to 15 million USD per investment round)"
   ]
  },
  {
   "cell_type": "code",
   "execution_count": 31,
   "metadata": {},
   "outputs": [
    {
     "data": {
      "text/html": [
       "<div>\n",
       "<style scoped>\n",
       "    .dataframe tbody tr th:only-of-type {\n",
       "        vertical-align: middle;\n",
       "    }\n",
       "\n",
       "    .dataframe tbody tr th {\n",
       "        vertical-align: top;\n",
       "    }\n",
       "\n",
       "    .dataframe thead th {\n",
       "        text-align: right;\n",
       "    }\n",
       "</style>\n",
       "<table border=\"1\" class=\"dataframe\">\n",
       "  <thead>\n",
       "    <tr style=\"text-align: right;\">\n",
       "      <th></th>\n",
       "      <th>amount</th>\n",
       "    </tr>\n",
       "    <tr>\n",
       "      <th>fundType</th>\n",
       "      <th></th>\n",
       "    </tr>\n",
       "  </thead>\n",
       "  <tbody>\n",
       "    <tr>\n",
       "      <th>private_equity</th>\n",
       "      <td>15000000.0</td>\n",
       "    </tr>\n",
       "  </tbody>\n",
       "</table>\n",
       "</div>"
      ],
      "text/plain": [
       "                    amount\n",
       "fundType                  \n",
       "private_equity  15000000.0"
      ]
     },
     "execution_count": 31,
     "metadata": {},
     "output_type": "execute_result"
    }
   ],
   "source": [
    "medAmount=pd.DataFrame(master_frame.groupby('fundType')['amount'].median()) #Median of amounts calculated of each funding type\n",
    "medAmount[(medAmount['amount']>=5000000 ) & (medAmount['amount']<=15000000)] #Amount ranging 5-15 million USD is sorted"
   ]
  },
  {
   "cell_type": "code",
   "execution_count": 32,
   "metadata": {},
   "outputs": [
    {
     "data": {
      "text/plain": [
       "3900000"
      ]
     },
     "execution_count": 32,
     "metadata": {},
     "output_type": "execute_result"
    }
   ],
   "source": [
    "# Representative funding amount of venture type\n",
    "round(medAmount.loc['venture','amount'])"
   ]
  },
  {
   "cell_type": "code",
   "execution_count": 33,
   "metadata": {},
   "outputs": [
    {
     "data": {
      "text/plain": [
       "350000"
      ]
     },
     "execution_count": 33,
     "metadata": {},
     "output_type": "execute_result"
    }
   ],
   "source": [
    "# Representative funding amount of angel type\n",
    "round(medAmount.loc['angel','amount'])"
   ]
  },
  {
   "cell_type": "code",
   "execution_count": 34,
   "metadata": {},
   "outputs": [
    {
     "data": {
      "text/plain": [
       "230562"
      ]
     },
     "execution_count": 34,
     "metadata": {},
     "output_type": "execute_result"
    }
   ],
   "source": [
    "# Representative funding amount of seed type\n",
    "round(medAmount.loc['seed','amount'])"
   ]
  },
  {
   "cell_type": "code",
   "execution_count": 35,
   "metadata": {},
   "outputs": [
    {
     "data": {
      "text/plain": [
       "15000000"
      ]
     },
     "execution_count": 35,
     "metadata": {},
     "output_type": "execute_result"
    }
   ],
   "source": [
    "# Representative funding amount of private_equity type\n",
    "round(medAmount.loc['private_equity','amount'])"
   ]
  },
  {
   "cell_type": "code",
   "execution_count": 36,
   "metadata": {},
   "outputs": [
    {
     "name": "stdout",
     "output_type": "stream",
     "text": [
      "Private Equity funding total amount comprises of 45250338328 USD, i.e., around 19 % of all round types\n"
     ]
    }
   ],
   "source": [
    "ws=pd.DataFrame(master_frame.groupby('fundType')['amount'].sum()).sort_values('amount',ascending=False)['amount']\n",
    "print('Private Equity funding total amount comprises of', round(ws[1]), 'USD, i.e., around',round(100*(ws[1]/ws.sum())),'% of all round types')"
   ]
  },
  {
   "cell_type": "markdown",
   "metadata": {},
   "source": [
    "### <b> <font color='#058d70'>Private Equity funding total amount comprises of 45 billion USD, i.e., around 19 % of all round types"
   ]
  },
  {
   "cell_type": "code",
   "execution_count": 37,
   "metadata": {},
   "outputs": [
    {
     "data": {
      "image/png": "[encoded data removed]",
      "text/plain": [
       "<Figure size 576x576 with 1 Axes>"
      ]
     },
     "metadata": {},
     "output_type": "display_data"
    }
   ],
   "source": [
    "ws.plot(kind='pie', figsize=[8,8], autopct=\"%.0f%%\", fontsize=12, explode=[0.05]*4)\n",
    "plt.title('Amount invested in all type of fundings', fontsize=14)\n",
    "plt.show()"
   ]
  },
  {
   "cell_type": "code",
   "execution_count": 38,
   "metadata": {},
   "outputs": [
    {
     "name": "stdout",
     "output_type": "stream",
     "text": [
      "Total no. of private equity fundings= 1286\n",
      "Median of the fundings that is done through private equity= 15000000\n"
     ]
    }
   ],
   "source": [
    "print('Total no. of private equity fundings=',master_frame['fundType'].value_counts()[master_frame['fundType'].value_counts().index=='private_equity'][0])\n",
    "print('Median of the fundings that is done through private equity=',round(medAmount[(medAmount['amount']>=5000000 ) & (medAmount['amount']<=15000000)].iloc[0,0]))"
   ]
  },
  {
   "cell_type": "markdown",
   "metadata": {},
   "source": [
    "### <b> <font color='#058d70'>From the output of the above codes, it is clear that-\n",
    "### <b> <font color='#058d70'>Median is the most representative value of the investment amount, which is around $ 15 million (considering that Spark Funds wants to invest between 5 to 15 million USD per investment round) and funded around 1300 times by private equity.\n",
    "### <b> <font color='#058d70'>Therefore, private equity funding is most suitable to invest between 5 to 15 million USD per investment round"
   ]
  },
  {
   "cell_type": "code",
   "execution_count": 39,
   "metadata": {},
   "outputs": [],
   "source": [
    "# Keeping a copy of master_frame\n",
    "master_frameCopy=master_frame.copy()"
   ]
  },
  {
   "cell_type": "code",
   "execution_count": 40,
   "metadata": {},
   "outputs": [],
   "source": [
    "# master_frame dataset is sliced to form a dataset where value of 'amount; ranges between 5-15 million USD\n",
    "master_frame=master_frame[(master_frame.amount>=5000000.0) & (master_frame.amount<=15000000.0)]"
   ]
  },
  {
   "cell_type": "code",
   "execution_count": null,
   "metadata": {},
   "outputs": [],
   "source": []
  },
  {
   "cell_type": "code",
   "execution_count": null,
   "metadata": {},
   "outputs": [],
   "source": []
  },
  {
   "cell_type": "code",
   "execution_count": null,
   "metadata": {},
   "outputs": [],
   "source": []
  },
  {
   "cell_type": "code",
   "execution_count": null,
   "metadata": {},
   "outputs": [],
   "source": []
  },
  {
   "cell_type": "markdown",
   "metadata": {},
   "source": [
    "## <font color='blue'><u> Checkpoint 3: Country Analysis"
   ]
  },
  {
   "cell_type": "code",
   "execution_count": 41,
   "metadata": {},
   "outputs": [
    {
     "data": {
      "text/html": [
       "<div>\n",
       "<style scoped>\n",
       "    .dataframe tbody tr th:only-of-type {\n",
       "        vertical-align: middle;\n",
       "    }\n",
       "\n",
       "    .dataframe tbody tr th {\n",
       "        vertical-align: top;\n",
       "    }\n",
       "\n",
       "    .dataframe thead th {\n",
       "        text-align: right;\n",
       "    }\n",
       "</style>\n",
       "<table border=\"1\" class=\"dataframe\">\n",
       "  <thead>\n",
       "    <tr style=\"text-align: right;\">\n",
       "      <th></th>\n",
       "      <th>permalink</th>\n",
       "      <th>fundType</th>\n",
       "      <th>amount</th>\n",
       "      <th>name</th>\n",
       "      <th>category_list</th>\n",
       "      <th>country</th>\n",
       "    </tr>\n",
       "  </thead>\n",
       "  <tbody>\n",
       "    <tr>\n",
       "      <th>18</th>\n",
       "      <td>/organization/1-800-publicrelations-inc-</td>\n",
       "      <td>private_equity</td>\n",
       "      <td>6000000.0</td>\n",
       "      <td>1-800-PublicRelations, Inc.</td>\n",
       "      <td>Internet Marketing|Media|Public Relations</td>\n",
       "      <td>USA</td>\n",
       "    </tr>\n",
       "    <tr>\n",
       "      <th>519</th>\n",
       "      <td>/organization/4tech</td>\n",
       "      <td>private_equity</td>\n",
       "      <td>7000000.0</td>\n",
       "      <td>4Tech</td>\n",
       "      <td>Biotechnology</td>\n",
       "      <td>USA</td>\n",
       "    </tr>\n",
       "    <tr>\n",
       "      <th>1305</th>\n",
       "      <td>/organization/ace-comm</td>\n",
       "      <td>private_equity</td>\n",
       "      <td>5000000.0</td>\n",
       "      <td>ACE*COMM</td>\n",
       "      <td>Public Relations</td>\n",
       "      <td>USA</td>\n",
       "    </tr>\n",
       "    <tr>\n",
       "      <th>1333</th>\n",
       "      <td>/organization/acetylon-pharmaceuticals</td>\n",
       "      <td>private_equity</td>\n",
       "      <td>15000000.0</td>\n",
       "      <td>Acetylon Pharmaceuticals</td>\n",
       "      <td>Biotechnology</td>\n",
       "      <td>USA</td>\n",
       "    </tr>\n",
       "    <tr>\n",
       "      <th>2445</th>\n",
       "      <td>/organization/aet-holdings</td>\n",
       "      <td>private_equity</td>\n",
       "      <td>6000000.0</td>\n",
       "      <td>AET Holdings Corp</td>\n",
       "      <td>Business Services|Enterprise Application|Enter...</td>\n",
       "      <td>USA</td>\n",
       "    </tr>\n",
       "  </tbody>\n",
       "</table>\n",
       "</div>"
      ],
      "text/plain": [
       "                                     permalink        fundType      amount  \\\n",
       "18    /organization/1-800-publicrelations-inc-  private_equity   6000000.0   \n",
       "519                        /organization/4tech  private_equity   7000000.0   \n",
       "1305                    /organization/ace-comm  private_equity   5000000.0   \n",
       "1333    /organization/acetylon-pharmaceuticals  private_equity  15000000.0   \n",
       "2445                /organization/aet-holdings  private_equity   6000000.0   \n",
       "\n",
       "                             name  \\\n",
       "18    1-800-PublicRelations, Inc.   \n",
       "519                         4Tech   \n",
       "1305                     ACE*COMM   \n",
       "1333     Acetylon Pharmaceuticals   \n",
       "2445            AET Holdings Corp   \n",
       "\n",
       "                                          category_list country  \n",
       "18            Internet Marketing|Media|Public Relations     USA  \n",
       "519                                       Biotechnology     USA  \n",
       "1305                                   Public Relations     USA  \n",
       "1333                                      Biotechnology     USA  \n",
       "2445  Business Services|Enterprise Application|Enter...     USA  "
      ]
     },
     "execution_count": 41,
     "metadata": {},
     "output_type": "execute_result"
    }
   ],
   "source": [
    "# A simple function to fetch only the non-null country values for the chosen fundTypeype\n",
    "def coun(x):\n",
    "    return master_frame[master_frame['fundType']==x][~master_frame[master_frame['fundType']==x]['country'].isnull()]\n",
    "\n",
    "req=coun('private_equity')\n",
    "req.head()"
   ]
  },
  {
   "cell_type": "code",
   "execution_count": 42,
   "metadata": {},
   "outputs": [
    {
     "data": {
      "text/plain": [
       "['USA', 'GBR', 'CAN', 'ISR', 'AUS', 'BRA', 'IND', 'RUS', 'SGP']"
      ]
     },
     "execution_count": 42,
     "metadata": {},
     "output_type": "execute_result"
    }
   ],
   "source": [
    "# Listing the top 9 countries based on 'raised_amount_usd' of private equity'funding_round_type'\n",
    "df=pd.DataFrame(req.groupby('country')['amount'].sum())\n",
    "top9countries=list(df.nlargest(9, ['amount']).index)\n",
    "top9countries"
   ]
  },
  {
   "cell_type": "code",
   "execution_count": 43,
   "metadata": {},
   "outputs": [
    {
     "name": "stdout",
     "output_type": "stream",
     "text": [
      "<class 'pandas.core.frame.DataFrame'>\n",
      "Int64Index: 261 entries, 18 to 89754\n",
      "Data columns (total 6 columns):\n",
      " #   Column         Non-Null Count  Dtype  \n",
      "---  ------         --------------  -----  \n",
      " 0   permalink      261 non-null    object \n",
      " 1   fundType       261 non-null    object \n",
      " 2   amount         261 non-null    float64\n",
      " 3   name           261 non-null    object \n",
      " 4   category_list  257 non-null    object \n",
      " 5   country        261 non-null    object \n",
      "dtypes: float64(1), object(5)\n",
      "memory usage: 14.3+ KB\n"
     ]
    }
   ],
   "source": [
    "# Creating a dataframe 'top9' which contains only the top 9 countries (in the above list)\n",
    "top9=req[req['country'].isin(top9countries)]\n",
    "top9.info()"
   ]
  },
  {
   "cell_type": "code",
   "execution_count": 44,
   "metadata": {},
   "outputs": [
    {
     "data": {
      "text/plain": [
       "['USA', 'GBR', 'CAN']"
      ]
     },
     "execution_count": 44,
     "metadata": {},
     "output_type": "execute_result"
    }
   ],
   "source": [
    "# Top 3 English speaking countries are:\n",
    "topengcount=top9countries[0:3]\n",
    "topengcount"
   ]
  },
  {
   "cell_type": "markdown",
   "metadata": {},
   "source": [
    "### <b> <font color='#058d70'>Top 3 english speaking countries are 'USA', 'GBR', 'CAN'"
   ]
  },
  {
   "cell_type": "markdown",
   "metadata": {},
   "source": [
    "### The following graph shows the number of countries with private equity type investment"
   ]
  },
  {
   "cell_type": "code",
   "execution_count": 45,
   "metadata": {},
   "outputs": [
    {
     "data": {
      "image/png": "[encoded data removed]",
      "text/plain": [
       "<Figure size 1440x576 with 1 Axes>"
      ]
     },
     "metadata": {
      "needs_background": "light"
     },
     "output_type": "display_data"
    }
   ],
   "source": [
    "plt.figure(figsize=(20,8))\n",
    "plt.plot(top9.country.value_counts().sort_index(), '-o', color='#4b0082', linewidth=4)\n",
    "plt.title('Number of countries with private equity type investment', fontsize=14)\n",
    "plt.xlabel('Countries', fontsize=12)\n",
    "plt.ylabel('Number of investments', fontsize=12)\n",
    "plt.grid(color='#95a5a6', linestyle='--', linewidth=2, axis='y', alpha=0.7)\n",
    "plt.show()"
   ]
  },
  {
   "cell_type": "code",
   "execution_count": null,
   "metadata": {},
   "outputs": [],
   "source": []
  },
  {
   "cell_type": "code",
   "execution_count": null,
   "metadata": {},
   "outputs": [],
   "source": []
  },
  {
   "cell_type": "code",
   "execution_count": null,
   "metadata": {},
   "outputs": [],
   "source": []
  },
  {
   "cell_type": "code",
   "execution_count": null,
   "metadata": {},
   "outputs": [],
   "source": []
  },
  {
   "cell_type": "markdown",
   "metadata": {},
   "source": [
    "## <font color='blue'> <u> Checkpoint 4: Sector Analysis 1"
   ]
  },
  {
   "cell_type": "code",
   "execution_count": 46,
   "metadata": {},
   "outputs": [
    {
     "data": {
      "text/html": [
       "<div>\n",
       "<style scoped>\n",
       "    .dataframe tbody tr th:only-of-type {\n",
       "        vertical-align: middle;\n",
       "    }\n",
       "\n",
       "    .dataframe tbody tr th {\n",
       "        vertical-align: top;\n",
       "    }\n",
       "\n",
       "    .dataframe thead th {\n",
       "        text-align: right;\n",
       "    }\n",
       "</style>\n",
       "<table border=\"1\" class=\"dataframe\">\n",
       "  <thead>\n",
       "    <tr style=\"text-align: right;\">\n",
       "      <th></th>\n",
       "      <th>category_list</th>\n",
       "      <th>Automotive &amp; Sports</th>\n",
       "      <th>Blanks</th>\n",
       "      <th>Cleantech / Semiconductors</th>\n",
       "      <th>Entertainment</th>\n",
       "      <th>Health</th>\n",
       "      <th>Manufacturing</th>\n",
       "      <th>News, Search and Messaging</th>\n",
       "      <th>Others</th>\n",
       "      <th>Social, Finance, Analytics, Advertising</th>\n",
       "    </tr>\n",
       "  </thead>\n",
       "  <tbody>\n",
       "    <tr>\n",
       "      <th>0</th>\n",
       "      <td>NaN</td>\n",
       "      <td>0</td>\n",
       "      <td>1</td>\n",
       "      <td>0</td>\n",
       "      <td>0</td>\n",
       "      <td>0</td>\n",
       "      <td>0</td>\n",
       "      <td>0</td>\n",
       "      <td>0</td>\n",
       "      <td>0</td>\n",
       "    </tr>\n",
       "    <tr>\n",
       "      <th>1</th>\n",
       "      <td>3D</td>\n",
       "      <td>0</td>\n",
       "      <td>0</td>\n",
       "      <td>0</td>\n",
       "      <td>0</td>\n",
       "      <td>0</td>\n",
       "      <td>1</td>\n",
       "      <td>0</td>\n",
       "      <td>0</td>\n",
       "      <td>0</td>\n",
       "    </tr>\n",
       "    <tr>\n",
       "      <th>2</th>\n",
       "      <td>3D Printing</td>\n",
       "      <td>0</td>\n",
       "      <td>0</td>\n",
       "      <td>0</td>\n",
       "      <td>0</td>\n",
       "      <td>0</td>\n",
       "      <td>1</td>\n",
       "      <td>0</td>\n",
       "      <td>0</td>\n",
       "      <td>0</td>\n",
       "    </tr>\n",
       "    <tr>\n",
       "      <th>3</th>\n",
       "      <td>3D Technology</td>\n",
       "      <td>0</td>\n",
       "      <td>0</td>\n",
       "      <td>0</td>\n",
       "      <td>0</td>\n",
       "      <td>0</td>\n",
       "      <td>1</td>\n",
       "      <td>0</td>\n",
       "      <td>0</td>\n",
       "      <td>0</td>\n",
       "    </tr>\n",
       "    <tr>\n",
       "      <th>4</th>\n",
       "      <td>Accounting</td>\n",
       "      <td>0</td>\n",
       "      <td>0</td>\n",
       "      <td>0</td>\n",
       "      <td>0</td>\n",
       "      <td>0</td>\n",
       "      <td>0</td>\n",
       "      <td>0</td>\n",
       "      <td>0</td>\n",
       "      <td>1</td>\n",
       "    </tr>\n",
       "  </tbody>\n",
       "</table>\n",
       "</div>"
      ],
      "text/plain": [
       "   category_list  Automotive & Sports  Blanks  Cleantech / Semiconductors  \\\n",
       "0            NaN                    0       1                           0   \n",
       "1             3D                    0       0                           0   \n",
       "2    3D Printing                    0       0                           0   \n",
       "3  3D Technology                    0       0                           0   \n",
       "4     Accounting                    0       0                           0   \n",
       "\n",
       "   Entertainment  Health  Manufacturing  News, Search and Messaging  Others  \\\n",
       "0              0       0              0                           0       0   \n",
       "1              0       0              1                           0       0   \n",
       "2              0       0              1                           0       0   \n",
       "3              0       0              1                           0       0   \n",
       "4              0       0              0                           0       0   \n",
       "\n",
       "   Social, Finance, Analytics, Advertising  \n",
       "0                                        0  \n",
       "1                                        0  \n",
       "2                                        0  \n",
       "3                                        0  \n",
       "4                                        1  "
      ]
     },
     "execution_count": 46,
     "metadata": {},
     "output_type": "execute_result"
    }
   ],
   "source": [
    "mapping.head()"
   ]
  },
  {
   "cell_type": "code",
   "execution_count": 47,
   "metadata": {},
   "outputs": [],
   "source": [
    "# Function to extract the string berfore the first '|'\n",
    "def primary(x):\n",
    "    if '|' in x: # If '|' is found in the passed string(x), then x will proceed further in the loop otherwise will get returned\n",
    "        req=[]\n",
    "        n=0\n",
    "        while x[n] != '|': # Loop will continue till '|' is not confronted, once '|' appears, loop will stop\n",
    "            req.append(x[n]) \n",
    "            n += 1\n",
    "        req=''.join(req)   # All the req list elements are joined to form a string and returned \n",
    "        return req\n",
    "    else:\n",
    "        return x"
   ]
  },
  {
   "cell_type": "code",
   "execution_count": 48,
   "metadata": {},
   "outputs": [
    {
     "name": "stderr",
     "output_type": "stream",
     "text": [
      "<ipython-input-48-4abfcef873fd>:2: SettingWithCopyWarning: \n",
      "A value is trying to be set on a copy of a slice from a DataFrame.\n",
      "Try using .loc[row_indexer,col_indexer] = value instead\n",
      "\n",
      "See the caveats in the documentation: https://pandas.pydata.org/pandas-docs/stable/user_guide/indexing.html#returning-a-view-versus-a-copy\n",
      "  top9['primary_sector'] = top9['category_list'].apply(lambda x: primary(str(x)))\n"
     ]
    }
   ],
   "source": [
    "# Creating a 'primary_sector' column from 'category_list' using the above function  \n",
    "top9['primary_sector'] = top9['category_list'].apply(lambda x: primary(str(x)))"
   ]
  },
  {
   "cell_type": "markdown",
   "metadata": {},
   "source": [
    "### Below is a customized function made specifically to perform the task of making a column in top9 dataset that will contain the main sectors from the mapping dataset, mapped to the primary sectors.\n",
    "\n",
    "#### <b> THIS FUNCTION MAY TAKE A WHILE TO RUN DURING EXECUTION"
   ]
  },
  {
   "cell_type": "code",
   "execution_count": 49,
   "metadata": {},
   "outputs": [],
   "source": [
    "def mapp(main, maincol, mapping, mappingcol , newcol):\n",
    "\n",
    "    com=[]\n",
    "    for items in list(mapping[mappingcol].values):\n",
    "        if items in list(main[maincol].values):\n",
    "            com.append(items)\n",
    "    # The above line of codes are to make a list (comm) which contains the common values from 'category_list' of\n",
    "    # mapping and 'primary_sector' of top9.\n",
    "    # This list is required to run the below function. If not done, it will throw an error for the values that are\n",
    "    # there in top9['primary_sector'] but not in mapping['category_list'].\n",
    "    # For eg, 'Analytics' is there in top9['primary_sector'] but not in mapping['category_list'].\n",
    "\n",
    "\n",
    "    # The following function fetches the name of the main sector from the value of category_list of mapping\n",
    "    # dataset provided as 'x' :\n",
    "    def val(x, mapping, mappingcol):\n",
    "        if x in com:  # If 'x' is common, i.e., present in com, then only it will proceed further      \n",
    "            wq=mapping[mapping[mappingcol].isin([x])].set_index(mappingcol)\n",
    "            # Above line of code is to create a data frame which contains 'x' in 'category_list' & index is set to\n",
    "            # 'category_list' itself\n",
    "            for n in list(wq.columns):\n",
    "                if (wq.loc[x,n]) == 1:\n",
    "                    return n # 'n' is the name of the column which is marked with 1 for that 'x'\n",
    "                else:\n",
    "                    continue\n",
    "        else:\n",
    "            pass\n",
    "\n",
    "    # 'main_sector' column is added in top9 using the above function\n",
    "    main[newcol]=main[maincol].apply(lambda y: val(str(y), mapping, mappingcol))"
   ]
  },
  {
   "cell_type": "code",
   "execution_count": 50,
   "metadata": {},
   "outputs": [
    {
     "name": "stderr",
     "output_type": "stream",
     "text": [
      "<ipython-input-49-0e77f4d6c099>:30: SettingWithCopyWarning: \n",
      "A value is trying to be set on a copy of a slice from a DataFrame.\n",
      "Try using .loc[row_indexer,col_indexer] = value instead\n",
      "\n",
      "See the caveats in the documentation: https://pandas.pydata.org/pandas-docs/stable/user_guide/indexing.html#returning-a-view-versus-a-copy\n",
      "  main[newcol]=main[maincol].apply(lambda y: val(str(y), mapping, mappingcol))\n"
     ]
    }
   ],
   "source": [
    "# 'main_sector' column is added in top9 using the above function :: THIS MAY TAKE A WHILE TO RUN DURING EXECUTION\n",
    "mapp(top9, 'primary_sector', mapping, 'category_list', 'main_sector')"
   ]
  },
  {
   "cell_type": "code",
   "execution_count": 51,
   "metadata": {},
   "outputs": [
    {
     "data": {
      "text/html": [
       "<div>\n",
       "<style scoped>\n",
       "    .dataframe tbody tr th:only-of-type {\n",
       "        vertical-align: middle;\n",
       "    }\n",
       "\n",
       "    .dataframe tbody tr th {\n",
       "        vertical-align: top;\n",
       "    }\n",
       "\n",
       "    .dataframe thead th {\n",
       "        text-align: right;\n",
       "    }\n",
       "</style>\n",
       "<table border=\"1\" class=\"dataframe\">\n",
       "  <thead>\n",
       "    <tr style=\"text-align: right;\">\n",
       "      <th></th>\n",
       "      <th>permalink</th>\n",
       "      <th>fundType</th>\n",
       "      <th>amount</th>\n",
       "      <th>name</th>\n",
       "      <th>category_list</th>\n",
       "      <th>country</th>\n",
       "      <th>primary_sector</th>\n",
       "      <th>main_sector</th>\n",
       "    </tr>\n",
       "  </thead>\n",
       "  <tbody>\n",
       "    <tr>\n",
       "      <th>18</th>\n",
       "      <td>/organization/1-800-publicrelations-inc-</td>\n",
       "      <td>private_equity</td>\n",
       "      <td>6000000.0</td>\n",
       "      <td>1-800-PublicRelations, Inc.</td>\n",
       "      <td>Internet Marketing|Media|Public Relations</td>\n",
       "      <td>USA</td>\n",
       "      <td>Internet Marketing</td>\n",
       "      <td>Social, Finance, Analytics, Advertising</td>\n",
       "    </tr>\n",
       "    <tr>\n",
       "      <th>519</th>\n",
       "      <td>/organization/4tech</td>\n",
       "      <td>private_equity</td>\n",
       "      <td>7000000.0</td>\n",
       "      <td>4Tech</td>\n",
       "      <td>Biotechnology</td>\n",
       "      <td>USA</td>\n",
       "      <td>Biotechnology</td>\n",
       "      <td>Cleantech / Semiconductors</td>\n",
       "    </tr>\n",
       "    <tr>\n",
       "      <th>1305</th>\n",
       "      <td>/organization/ace-comm</td>\n",
       "      <td>private_equity</td>\n",
       "      <td>5000000.0</td>\n",
       "      <td>ACE*COMM</td>\n",
       "      <td>Public Relations</td>\n",
       "      <td>USA</td>\n",
       "      <td>Public Relations</td>\n",
       "      <td>Social, Finance, Analytics, Advertising</td>\n",
       "    </tr>\n",
       "    <tr>\n",
       "      <th>1333</th>\n",
       "      <td>/organization/acetylon-pharmaceuticals</td>\n",
       "      <td>private_equity</td>\n",
       "      <td>15000000.0</td>\n",
       "      <td>Acetylon Pharmaceuticals</td>\n",
       "      <td>Biotechnology</td>\n",
       "      <td>USA</td>\n",
       "      <td>Biotechnology</td>\n",
       "      <td>Cleantech / Semiconductors</td>\n",
       "    </tr>\n",
       "    <tr>\n",
       "      <th>2445</th>\n",
       "      <td>/organization/aet-holdings</td>\n",
       "      <td>private_equity</td>\n",
       "      <td>6000000.0</td>\n",
       "      <td>AET Holdings Corp</td>\n",
       "      <td>Business Services|Enterprise Application|Enter...</td>\n",
       "      <td>USA</td>\n",
       "      <td>Business Services</td>\n",
       "      <td>Social, Finance, Analytics, Advertising</td>\n",
       "    </tr>\n",
       "  </tbody>\n",
       "</table>\n",
       "</div>"
      ],
      "text/plain": [
       "                                     permalink        fundType      amount  \\\n",
       "18    /organization/1-800-publicrelations-inc-  private_equity   6000000.0   \n",
       "519                        /organization/4tech  private_equity   7000000.0   \n",
       "1305                    /organization/ace-comm  private_equity   5000000.0   \n",
       "1333    /organization/acetylon-pharmaceuticals  private_equity  15000000.0   \n",
       "2445                /organization/aet-holdings  private_equity   6000000.0   \n",
       "\n",
       "                             name  \\\n",
       "18    1-800-PublicRelations, Inc.   \n",
       "519                         4Tech   \n",
       "1305                     ACE*COMM   \n",
       "1333     Acetylon Pharmaceuticals   \n",
       "2445            AET Holdings Corp   \n",
       "\n",
       "                                          category_list country  \\\n",
       "18            Internet Marketing|Media|Public Relations     USA   \n",
       "519                                       Biotechnology     USA   \n",
       "1305                                   Public Relations     USA   \n",
       "1333                                      Biotechnology     USA   \n",
       "2445  Business Services|Enterprise Application|Enter...     USA   \n",
       "\n",
       "          primary_sector                              main_sector  \n",
       "18    Internet Marketing  Social, Finance, Analytics, Advertising  \n",
       "519        Biotechnology               Cleantech / Semiconductors  \n",
       "1305    Public Relations  Social, Finance, Analytics, Advertising  \n",
       "1333       Biotechnology               Cleantech / Semiconductors  \n",
       "2445   Business Services  Social, Finance, Analytics, Advertising  "
      ]
     },
     "execution_count": 51,
     "metadata": {},
     "output_type": "execute_result"
    }
   ],
   "source": [
    "top9.head()"
   ]
  },
  {
   "cell_type": "code",
   "execution_count": 52,
   "metadata": {},
   "outputs": [
    {
     "data": {
      "text/html": [
       "<div>\n",
       "<style scoped>\n",
       "    .dataframe tbody tr th:only-of-type {\n",
       "        vertical-align: middle;\n",
       "    }\n",
       "\n",
       "    .dataframe tbody tr th {\n",
       "        vertical-align: top;\n",
       "    }\n",
       "\n",
       "    .dataframe thead th {\n",
       "        text-align: right;\n",
       "    }\n",
       "</style>\n",
       "<table border=\"1\" class=\"dataframe\">\n",
       "  <thead>\n",
       "    <tr style=\"text-align: right;\">\n",
       "      <th></th>\n",
       "      <th>category_list</th>\n",
       "      <th>Automotive &amp; Sports</th>\n",
       "      <th>Blanks</th>\n",
       "      <th>Cleantech / Semiconductors</th>\n",
       "      <th>Entertainment</th>\n",
       "      <th>Health</th>\n",
       "      <th>Manufacturing</th>\n",
       "      <th>News, Search and Messaging</th>\n",
       "      <th>Others</th>\n",
       "      <th>Social, Finance, Analytics, Advertising</th>\n",
       "    </tr>\n",
       "  </thead>\n",
       "  <tbody>\n",
       "    <tr>\n",
       "      <th>66</th>\n",
       "      <td>Biotechnology</td>\n",
       "      <td>0</td>\n",
       "      <td>0</td>\n",
       "      <td>1</td>\n",
       "      <td>0</td>\n",
       "      <td>0</td>\n",
       "      <td>0</td>\n",
       "      <td>0</td>\n",
       "      <td>0</td>\n",
       "      <td>0</td>\n",
       "    </tr>\n",
       "  </tbody>\n",
       "</table>\n",
       "</div>"
      ],
      "text/plain": [
       "    category_list  Automotive & Sports  Blanks  Cleantech / Semiconductors  \\\n",
       "66  Biotechnology                    0       0                           1   \n",
       "\n",
       "    Entertainment  Health  Manufacturing  News, Search and Messaging  Others  \\\n",
       "66              0       0              0                           0       0   \n",
       "\n",
       "    Social, Finance, Analytics, Advertising  \n",
       "66                                        0  "
      ]
     },
     "execution_count": 52,
     "metadata": {},
     "output_type": "execute_result"
    }
   ],
   "source": [
    "mapping[mapping['category_list']=='Biotechnology']"
   ]
  },
  {
   "cell_type": "code",
   "execution_count": 53,
   "metadata": {},
   "outputs": [
    {
     "name": "stdout",
     "output_type": "stream",
     "text": [
      "<class 'pandas.core.frame.DataFrame'>\n",
      "Int64Index: 261 entries, 18 to 89754\n",
      "Data columns (total 8 columns):\n",
      " #   Column          Non-Null Count  Dtype  \n",
      "---  ------          --------------  -----  \n",
      " 0   permalink       261 non-null    object \n",
      " 1   fundType        261 non-null    object \n",
      " 2   amount          261 non-null    float64\n",
      " 3   name            261 non-null    object \n",
      " 4   category_list   257 non-null    object \n",
      " 5   country         261 non-null    object \n",
      " 6   primary_sector  261 non-null    object \n",
      " 7   main_sector     234 non-null    object \n",
      "dtypes: float64(1), object(7)\n",
      "memory usage: 18.4+ KB\n"
     ]
    }
   ],
   "source": [
    "top9.info()"
   ]
  },
  {
   "cell_type": "code",
   "execution_count": null,
   "metadata": {},
   "outputs": [],
   "source": []
  },
  {
   "cell_type": "code",
   "execution_count": null,
   "metadata": {},
   "outputs": [],
   "source": []
  },
  {
   "cell_type": "code",
   "execution_count": null,
   "metadata": {},
   "outputs": [],
   "source": []
  },
  {
   "cell_type": "code",
   "execution_count": null,
   "metadata": {},
   "outputs": [],
   "source": []
  },
  {
   "cell_type": "markdown",
   "metadata": {},
   "source": [
    "## <font color='blue'> <u> Checkpoint 5: Sector Analysis 2"
   ]
  },
  {
   "cell_type": "code",
   "execution_count": 54,
   "metadata": {},
   "outputs": [],
   "source": [
    "# 3 datasets are formed for the 3 top english speaking countries\n",
    "D1=top9[(top9.country==topengcount[0])]\n",
    "D2=top9[(top9.country==topengcount[1])]\n",
    "D3=top9[(top9.country==topengcount[2])]"
   ]
  },
  {
   "cell_type": "markdown",
   "metadata": {},
   "source": [
    "#### <b>D1 dataset is for 'USA' countryate eqtype funding and amount ranges between 5-15 million USD\n",
    "#### <b>D2 dataset is for 'GBR' countryate eqtype funding and 'raised_amount_usd' ranges between 5-15 million USD\n",
    "#### <b>D3 dataset is for 'CAN' countryate eqtype funding and amount ranges between 5-15 million USD"
   ]
  },
  {
   "cell_type": "markdown",
   "metadata": {},
   "source": [
    "#### Following group of commands to sort the common main sectors from the 3 datasets (3 english-speaking countries) in descending order (more invested sectors to less invested sectors)"
   ]
  },
  {
   "cell_type": "code",
   "execution_count": 55,
   "metadata": {},
   "outputs": [
    {
     "data": {
      "text/plain": [
       "['Cleantech / Semiconductors',\n",
       " 'Others',\n",
       " 'Social, Finance, Analytics, Advertising',\n",
       " 'Health',\n",
       " 'News, Search and Messaging',\n",
       " 'Manufacturing',\n",
       " 'Entertainment',\n",
       " 'Automotive & Sports']"
      ]
     },
     "execution_count": 55,
     "metadata": {},
     "output_type": "execute_result"
    }
   ],
   "source": [
    "# Creating dataframes for D1,D2,D3 by adding 'amount' values for every main sectors\n",
    "df1=pd.DataFrame(D1.groupby('main_sector').amount.sum()).rename(columns={'amount':'D1_amount'}).sort_values('D1_amount', ascending=False)\n",
    "df2=pd.DataFrame(D2.groupby('main_sector').amount.sum()).rename(columns={'amount':'D2_amount'}).sort_values('D2_amount', ascending=False)\n",
    "df3=pd.DataFrame(D3.groupby('main_sector').amount.sum()).rename(columns={'amount':'D3_amount'}).sort_values('D3_amount', ascending=False)\n",
    "\n",
    "# Merging the above 3 dataframes into 'topsec'\n",
    "topsec=df1.merge(df2, how='outer', on='main_sector').merge(df3, how='outer', on='main_sector')\n",
    "\n",
    "# Creating a new column stating the total amount raised for any sector\n",
    "topsec['totalAmount']=topsec[['D1_amount','D2_amount','D3_amount']].sum(axis=1)\n",
    "\n",
    "# Sorting from maximum to minimum investments among the top main sectors\n",
    "biggestSectors=list(topsec.sort_values('totalAmount', ascending=False).index)\n",
    "biggestSectors\n",
    "\n",
    "# Following are the top main sectors in descending order of investments in the top 3 countries"
   ]
  },
  {
   "cell_type": "code",
   "execution_count": 56,
   "metadata": {},
   "outputs": [
    {
     "data": {
      "image/png": "[encoded data removed]",
      "text/plain": [
       "<Figure size 1440x576 with 1 Axes>"
      ]
     },
     "metadata": {
      "needs_background": "light"
     },
     "output_type": "display_data"
    }
   ],
   "source": [
    "topsec.groupby('main_sector').totalAmount.sum().sort_index().plot.bar(figsize=[20,8], color='#b7d127', width=0.3)\n",
    "plt.xlabel('Main Sectors', fontsize=12)\n",
    "plt.ylabel('Amount of investments', fontsize=12)\n",
    "plt.title('Amount of investments in all of the 8 main sectors of the top 3 english-speaking countries', fontsize=14)\n",
    "plt.xticks(rotation = 0)\n",
    "plt.grid(color='#95a5a6', linestyle='--', linewidth=2, axis='y', alpha=0.7)\n",
    "plt.show()"
   ]
  },
  {
   "cell_type": "markdown",
   "metadata": {},
   "source": [
    "### <b> <font color='#058d70'> Therefore, if invested on all the top nine countries cumulatively, it is recommended to invest more on 'Cleantech / Semiconductors', followed by 'Others', 'Social, Finance, Analytics, Advertising' and so on according to biggestSectors list"
   ]
  },
  {
   "cell_type": "code",
   "execution_count": 57,
   "metadata": {},
   "outputs": [],
   "source": [
    "# Creating a dataframe 'df' out of 'top9' that will contain only the top 3 english-speaking countries and top 3\n",
    "# main sectors. The column 'category_list' is dropped since it is of no further use.\n",
    "df=top9[top9['main_sector'].isin(biggestSectors[0:3]) & top9.country.isin(topengcount)].reset_index().drop('category_list', axis=1)"
   ]
  },
  {
   "cell_type": "code",
   "execution_count": 58,
   "metadata": {},
   "outputs": [
    {
     "name": "stdout",
     "output_type": "stream",
     "text": [
      "D1= 206\n",
      "D2= 13\n",
      "D3= 11\n"
     ]
    }
   ],
   "source": [
    "# Total no. of investments (count)\n",
    "print('D1=',len(D1))\n",
    "print('D2=',len(D2))\n",
    "print('D3=',len(D3))"
   ]
  },
  {
   "cell_type": "code",
   "execution_count": 59,
   "metadata": {},
   "outputs": [
    {
     "name": "stdout",
     "output_type": "stream",
     "text": [
      "D1= 1843699259.0\n",
      "D2= 128802011.0\n",
      "D3= 99344227.0\n"
     ]
    }
   ],
   "source": [
    "# Total amount of investment\n",
    "print('D1=',D1.amount.sum())\n",
    "print('D2=',D2.amount.sum())\n",
    "print('D3=',D3.amount.sum())"
   ]
  },
  {
   "cell_type": "code",
   "execution_count": 60,
   "metadata": {},
   "outputs": [
    {
     "name": "stdout",
     "output_type": "stream",
     "text": [
      "D1=\n",
      "                                          main_sector\n",
      "Cleantech / Semiconductors                        56\n",
      "Others                                            40\n",
      "Social, Finance, Analytics, Advertising           26\n",
      "News, Search and Messaging                        22\n",
      "Health                                            21\n",
      "Manufacturing                                     10\n",
      "Entertainment                                      6\n",
      "Automotive & Sports                                4 \n",
      "\n",
      "\n",
      "\n",
      "D2=\n",
      "                                          main_sector\n",
      "Manufacturing                                      2\n",
      "Others                                             2\n",
      "Cleantech / Semiconductors                         2\n",
      "Automotive & Sports                                1\n",
      "News, Search and Messaging                         1\n",
      "Entertainment                                      1\n",
      "Social, Finance, Analytics, Advertising            1 \n",
      "\n",
      "\n",
      "\n",
      "D3=\n",
      "                             main_sector\n",
      "Cleantech / Semiconductors            7\n",
      "Others                                1\n",
      "Entertainment                         1\n",
      "Manufacturing                         1 \n",
      "\n",
      "\n",
      "\n"
     ]
    }
   ],
   "source": [
    "# Top sector (based on count of investments) &\n",
    "# Number of investments in the top sector (refer to point 3)\n",
    "print('D1=\\n',pd.DataFrame(D1['main_sector'].value_counts()),'\\n\\n\\n')\n",
    "print('D2=\\n',pd.DataFrame(D2['main_sector'].value_counts()),'\\n\\n\\n')\n",
    "print('D3=\\n',pd.DataFrame(D3['main_sector'].value_counts()),'\\n\\n\\n')"
   ]
  },
  {
   "cell_type": "code",
   "execution_count": 61,
   "metadata": {},
   "outputs": [
    {
     "name": "stdout",
     "output_type": "stream",
     "text": [
      "D1=\n",
      "                               amount\n",
      "name                                \n",
      "Acetylon Pharmaceuticals  15000000.0\n",
      "Soft Machines             15000000.0\n",
      "Oncothyreon               14900000.0\n",
      "SolarCity                 14800000.0\n",
      "Encysive Pharmaceuticals  13950000.0 \n",
      "\n",
      "\n",
      "\n",
      "D2=\n",
      "                                 amount\n",
      "name                                  \n",
      "HCS Control Systems         12879637.0\n",
      "Akari Therapeutics          12500000.0\n",
      "Scotrenewables Tidal Power  12000000.0\n",
      "Unii                        11000000.0\n",
      "Hydro66                     10000000.0 \n",
      "\n",
      "\n",
      "\n",
      "D3=\n",
      "                                       amount\n",
      "name                                        \n",
      "FilterBoxx Water & Environmental  14700000.0\n",
      "Eagle Hill Exploration            12000000.0\n",
      "Black Rock Tidal Power            10500000.0\n",
      "Solar Flow-Through                10000000.0\n",
      "NONO                               9776044.0 \n",
      "\n",
      "\n",
      "\n"
     ]
    }
   ],
   "source": [
    "# For the top sector count-wise (point 3), which company received the highest investment?\n",
    "\n",
    "d1sec=[D1['main_sector'].value_counts().index[0]]\n",
    "d1=pd.DataFrame(D1[D1['main_sector'].isin(d1sec)].groupby('name').amount.sum()).nlargest(5, ['amount'])\n",
    "\n",
    "d2sec=D2['main_sector'].value_counts()[:3].index\n",
    "d2=pd.DataFrame(D2[D2['main_sector'].isin(d2sec)].groupby('name').amount.sum()).nlargest(5, ['amount'])\n",
    "\n",
    "d3sec=[D3['main_sector'].value_counts().index[0]]\n",
    "d3=pd.DataFrame(D3[D3['main_sector'].isin(d3sec)].groupby('name').amount.sum()).nlargest(5, ['amount'])\n",
    "\n",
    "print('D1=\\n',d1,'\\n\\n\\n')\n",
    "print('D2=\\n',d2,'\\n\\n\\n')\n",
    "print('D3=\\n',d3,'\\n\\n\\n')"
   ]
  },
  {
   "cell_type": "code",
   "execution_count": 62,
   "metadata": {},
   "outputs": [
    {
     "name": "stdout",
     "output_type": "stream",
     "text": [
      "D1=\n",
      "                         amount\n",
      "name                          \n",
      "ikaSystems          27492730.0\n",
      "Netuitive           16500000.0\n",
      "Babyage             15000000.0\n",
      "BlueTarp Financial  15000000.0\n",
      "Curacao             15000000.0 \n",
      "\n",
      "\n",
      "\n",
      "D2=\n",
      "                     amount\n",
      "name                      \n",
      "Key Travel      13637262.0\n",
      "PTS Consulting  13182687.0\n",
      "VTL Group        6061005.0\n",
      "AudioBoo         5568600.0 \n",
      "\n",
      "\n",
      "\n",
      "D3=\n",
      "                           amount\n",
      "name                            \n",
      "Nettwerk Music Group  10250000.0\n",
      "Falco Resources        5100000.0\n",
      "GoGold Resources       5000000.0 \n",
      "\n",
      "\n",
      "\n"
     ]
    }
   ],
   "source": [
    "# For point 4 (second best sector count-wise), which company received the highest investment?\n",
    "\n",
    "d1sec=[D1['main_sector'].value_counts().index[1]]\n",
    "d1=pd.DataFrame(D1[D1['main_sector'].isin(d1sec)].groupby('name').amount.sum()).nlargest(5, ['amount'])\n",
    "\n",
    "d2sec=D2['main_sector'].value_counts().index[3:]\n",
    "d2=pd.DataFrame(D2[D2['main_sector'].isin(d2sec)].groupby('name').amount.sum()).nlargest(5, ['amount'])\n",
    "\n",
    "d3sec=D3['main_sector'].value_counts().index[1:]\n",
    "d3=pd.DataFrame(D3[D3['main_sector'].isin(d3sec)].groupby('name').amount.sum()).nlargest(5, ['amount'])\n",
    "\n",
    "\n",
    "print('D1=\\n',d1,'\\n\\n\\n')\n",
    "print('D2=\\n',d2,'\\n\\n\\n')\n",
    "print('D3=\\n',d3,'\\n\\n\\n')"
   ]
  },
  {
   "cell_type": "code",
   "execution_count": null,
   "metadata": {},
   "outputs": [],
   "source": []
  },
  {
   "cell_type": "code",
   "execution_count": null,
   "metadata": {},
   "outputs": [],
   "source": []
  },
  {
   "cell_type": "code",
   "execution_count": null,
   "metadata": {},
   "outputs": [],
   "source": []
  },
  {
   "cell_type": "code",
   "execution_count": null,
   "metadata": {},
   "outputs": [],
   "source": []
  },
  {
   "cell_type": "markdown",
   "metadata": {},
   "source": [
    "## <font color='blue'> <u> Checkpoint 6: Plots"
   ]
  },
  {
   "cell_type": "code",
   "execution_count": 63,
   "metadata": {},
   "outputs": [
    {
     "data": {
      "image/png": "[encoded data removed]",
      "text/plain": [
       "<Figure size 1440x576 with 1 Axes>"
      ]
     },
     "metadata": {
      "needs_background": "light"
     },
     "output_type": "display_data"
    }
   ],
   "source": [
    "master_frameCopy.groupby('fundType')['amount'].median().plot.bar(figsize=[20,8], color='#a036b2', width=0.3)\n",
    "plt.xlabel('Funding type', fontsize=12)\n",
    "plt.ylabel('Amount of investments', fontsize=12)\n",
    "plt.title('The representative amount of investment in each funding type', fontsize=14)\n",
    "plt.grid(color='#95a5a6', linestyle='--', linewidth=2, axis='y', alpha=0.7)\n",
    "plt.xticks(rotation = 0)\n",
    "plt.show()"
   ]
  },
  {
   "cell_type": "code",
   "execution_count": 64,
   "metadata": {},
   "outputs": [
    {
     "data": {
      "image/png": "[encoded data removed]",
      "text/plain": [
       "<Figure size 1440x576 with 1 Axes>"
      ]
     },
     "metadata": {
      "needs_background": "light"
     },
     "output_type": "display_data"
    }
   ],
   "source": [
    "pd.DataFrame(top9.groupby('country').amount.sum()).sort_index().plot(kind='bar', color='green', figsize=[20,8])\n",
    "plt.xlabel('Top 9 Countries', fontsize=12)\n",
    "plt.ylabel('Amount of investments', fontsize=12)\n",
    "plt.title('Top 9 countries against the total amount of investments of private equity funding type', fontsize=14)\n",
    "plt.grid(color='#95a5a6', linestyle='--', linewidth=2, axis='y', alpha=0.7)\n",
    "plt.xticks(rotation = 0)\n",
    "plt.show()"
   ]
  },
  {
   "cell_type": "code",
   "execution_count": 65,
   "metadata": {},
   "outputs": [
    {
     "data": {
      "image/png": "[encoded data removed]",
      "text/plain": [
       "<Figure size 1440x576 with 1 Axes>"
      ]
     },
     "metadata": {
      "needs_background": "light"
     },
     "output_type": "display_data"
    }
   ],
   "source": [
    "n=0.5\n",
    "bar1= np.arange(len(topengcount[0:3]))\n",
    "bar2=[i+n for i in bar1]\n",
    "bar3=[i+n for i in bar2]\n",
    "\n",
    "plt.figure(figsize=(20,8))\n",
    "\n",
    "\n",
    "plt.bar(bar1,list(df[df['main_sector'].isin([biggestSectors[0]])].country.value_counts().sort_index()),n,label=biggestSectors[0])\n",
    "\n",
    "plt.bar(bar1,list(df[df['main_sector'].isin([biggestSectors[1]])].country.value_counts().sort_index()),n,label=biggestSectors[1])\n",
    "\n",
    "can=df[df['main_sector'].isin([biggestSectors[2]])].country.value_counts().sort_index()\n",
    "ls=[0,can[0],can[1]]\n",
    "plt.bar(bar1,ls,n,label=biggestSectors[2])    \n",
    "\n",
    "plt.xticks(bar1, sorted(topengcount[0:3]))\n",
    "plt.xlabel('Countries', fontsize=12)\n",
    "plt.ylabel('No. of investments', fontsize=12)\n",
    "plt.title('Number of investments in the top 3 sectors of the top 3 countries', fontsize=14)\n",
    "plt.grid(color='#95a5a6', linestyle='--', linewidth=2, axis='y', alpha=0.7)\n",
    "plt.legend()\n",
    "plt.show()\n",
    "\n"
   ]
  },
  {
   "cell_type": "markdown",
   "metadata": {},
   "source": [
    "### This graph almost illustrates the same thing as that of the above one but with a slight change in perspective."
   ]
  },
  {
   "cell_type": "code",
   "execution_count": 66,
   "metadata": {},
   "outputs": [
    {
     "data": {
      "image/png": "[encoded data removed]",
      "text/plain": [
       "<Figure size 1440x576 with 1 Axes>"
      ]
     },
     "metadata": {
      "needs_background": "light"
     },
     "output_type": "display_data"
    }
   ],
   "source": [
    "n=0.2\n",
    "bar1= np.arange(len(biggestSectors[0:3]))\n",
    "bar2=[i+n for i in bar1]\n",
    "bar3=[i+n for i in bar2]\n",
    "\n",
    "plt.figure(figsize=(20,8))\n",
    "\n",
    "plt.bar(bar1, list(df[df.country.isin([topengcount[0]])]['main_sector'].value_counts().sort_index()),n,label=topengcount[0])\n",
    "\n",
    "plt.bar(bar2, list(df[df.country.isin([topengcount[1]])]['main_sector'].value_counts().sort_index()),n,label=topengcount[1])\n",
    "\n",
    "soc=df[df.country.isin([topengcount[2]])]['main_sector'].value_counts().sort_index()\n",
    "ls=[soc[0],soc[1],0]\n",
    "plt.bar(bar3,ls,n,label=topengcount[2])\n",
    "  \n",
    "plt.xticks(bar1, sorted(biggestSectors[0:3]))\n",
    "plt.xlabel('Main Sectors', fontsize=12)\n",
    "plt.ylabel('No. of investments', fontsize=12)\n",
    "plt.title('Number of investments in the the top 3 countries of the top 3 sectors', fontsize=14)\n",
    "plt.grid(color='#95a5a6', linestyle='--', linewidth=2, axis='y', alpha=0.7)\n",
    "plt.legend()\n",
    "plt.show()"
   ]
  },
  {
   "cell_type": "code",
   "execution_count": 67,
   "metadata": {},
   "outputs": [
    {
     "data": {
      "image/png": "[encoded data removed]",
      "text/plain": [
       "<Figure size 1440x576 with 2 Axes>"
      ]
     },
     "metadata": {
      "needs_background": "light"
     },
     "output_type": "display_data"
    }
   ],
   "source": [
    "rf=pd.pivot_table(df, index='main_sector', columns='country', values='amount', aggfunc=np.mean)\n",
    "plt.figure(figsize=(20,8))\n",
    "sns.heatmap(rf, cmap='Greens', annot=True)\n",
    "plt.title('Distribution of mean venture investments over the top 3 english-speaking countries and main sectors', fontsize=14)\n",
    "plt.yticks(rotation = 0)\n",
    "plt.show()"
   ]
  },
  {
   "cell_type": "markdown",
   "metadata": {},
   "source": [
    "### The following plot shows variation in total amount of investments across the top 3 main sectors in all the top 3 countries"
   ]
  },
  {
   "cell_type": "code",
   "execution_count": 68,
   "metadata": {},
   "outputs": [
    {
     "data": {
      "image/png": "[encoded data removed]",
      "text/plain": [
       "<Figure size 1440x576 with 1 Axes>"
      ]
     },
     "metadata": {
      "needs_background": "light"
     },
     "output_type": "display_data"
    }
   ],
   "source": [
    "df.groupby('main_sector').amount.sum().sort_index().plot.bar(figsize=[20,8], color='#e67300', width=0.2)\n",
    "plt.xlabel('Main Sectors', fontsize=12)\n",
    "plt.ylabel('Amount of investments', fontsize=12)\n",
    "plt.title('Main sector Vs Amount of investments', fontsize=14)\n",
    "plt.xticks(rotation = 0)\n",
    "plt.grid(color='#95a5a6', linestyle='--', linewidth=2, axis='y', alpha=0.7)\n",
    "plt.show()"
   ]
  },
  {
   "cell_type": "markdown",
   "metadata": {},
   "source": [
    "### 3 plots showing variation in number of investments across the top 3 main sectors individually w.r.t. top 3 english-speaking countries"
   ]
  },
  {
   "cell_type": "code",
   "execution_count": 69,
   "metadata": {
    "scrolled": false
   },
   "outputs": [
    {
     "data": {
      "image/png": "[encoded data removed]",
      "text/plain": [
       "<Figure size 1440x576 with 1 Axes>"
      ]
     },
     "metadata": {
      "needs_background": "light"
     },
     "output_type": "display_data"
    },
    {
     "data": {
      "image/png": "[encoded data removed]",
      "text/plain": [
       "<Figure size 1440x576 with 1 Axes>"
      ]
     },
     "metadata": {
      "needs_background": "light"
     },
     "output_type": "display_data"
    },
    {
     "data": {
      "image/png": "[encoded data removed]",
      "text/plain": [
       "<Figure size 1440x576 with 1 Axes>"
      ]
     },
     "metadata": {
      "needs_background": "light"
     },
     "output_type": "display_data"
    }
   ],
   "source": [
    "for item in topengcount:\n",
    "    df[df.country.isin([item])]['main_sector'].value_counts().sort_index().plot.bar(figsize=[20,8], color='red', width=0.2)\n",
    "    plt.xlabel('Main Sector', fontsize=12)\n",
    "    plt.ylabel('Number of investments', fontsize=12)\n",
    "    plt.title(f'Main sector Vs Number of investments in {item}', fontsize=14)\n",
    "    plt.xticks(rotation = 0)\n",
    "    plt.grid(color='#95a5a6', linestyle='--', linewidth=2, axis='y', alpha=0.7)\n",
    "    plt.show()"
   ]
  }
 ],
 "metadata": {
  "kernelspec": {
   "display_name": "Python 3",
   "language": "python",
   "name": "python3"
  },
  "language_info": {
   "codemirror_mode": {
    "name": "ipython",
    "version": 3
   },
   "file_extension": ".py",
   "mimetype": "text/x-python",
   "name": "python",
   "nbconvert_exporter": "python",
   "pygments_lexer": "ipython3",
   "version": "3.9.5"
  }
 },
 "nbformat": 4,
 "nbformat_minor": 4
}
