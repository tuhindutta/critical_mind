{
 "cells": [
  {
   "cell_type": "code",
   "execution_count": 1,
   "metadata": {
    "execution": {
     "iopub.execute_input": "2021-08-26T05:56:00.600582Z",
     "iopub.status.busy": "2021-08-26T05:56:00.600153Z",
     "iopub.status.idle": "2021-08-26T05:56:00.606740Z",
     "shell.execute_reply": "2021-08-26T05:56:00.605770Z",
     "shell.execute_reply.started": "2021-08-26T05:56:00.600547Z"
    }
   },
   "outputs": [],
   "source": [
    "import numpy as np # linear algebra\n",
    "import pandas as pd # data processing, CSV file I/O (e.g. pd.read_csv)\n",
    "\n",
    "from sklearn.model_selection import train_test_split, cross_val_score, GridSearchCV, StratifiedKFold\n",
    "from sklearn.feature_extraction.text import CountVectorizer, TfidfVectorizer\n",
    "from sklearn.naive_bayes import MultinomialNB, BernoulliNB\n",
    "from sklearn.metrics import confusion_matrix, accuracy_score, roc_curve, roc_auc_score\n",
    "from sklearn.pipeline import Pipeline\n",
    "\n",
    "import seaborn as sns, matplotlib.pyplot as plt\n",
    "\n",
    "import re\n",
    "\n",
    "import nltk\n",
    "from nltk.corpus import stopwords\n",
    "from nltk.stem.porter import PorterStemmer"
   ]
  },
  {
   "cell_type": "code",
   "execution_count": 2,
   "metadata": {
    "execution": {
     "iopub.execute_input": "2021-08-26T05:11:21.343385Z",
     "iopub.status.busy": "2021-08-26T05:11:21.343009Z",
     "iopub.status.idle": "2021-08-26T05:11:22.895522Z",
     "shell.execute_reply": "2021-08-26T05:11:22.894643Z",
     "shell.execute_reply.started": "2021-08-26T05:11:21.343345Z"
    }
   },
   "outputs": [
    {
     "data": {
      "text/html": [
       "<div>\n",
       "<style scoped>\n",
       "    .dataframe tbody tr th:only-of-type {\n",
       "        vertical-align: middle;\n",
       "    }\n",
       "\n",
       "    .dataframe tbody tr th {\n",
       "        vertical-align: top;\n",
       "    }\n",
       "\n",
       "    .dataframe thead th {\n",
       "        text-align: right;\n",
       "    }\n",
       "</style>\n",
       "<table border=\"1\" class=\"dataframe\">\n",
       "  <thead>\n",
       "    <tr style=\"text-align: right;\">\n",
       "      <th></th>\n",
       "      <th>title</th>\n",
       "      <th>text</th>\n",
       "      <th>subject</th>\n",
       "      <th>date</th>\n",
       "    </tr>\n",
       "  </thead>\n",
       "  <tbody>\n",
       "    <tr>\n",
       "      <th>0</th>\n",
       "      <td>Donald Trump Sends Out Embarrassing New Year’...</td>\n",
       "      <td>Donald Trump just couldn t wish all Americans ...</td>\n",
       "      <td>News</td>\n",
       "      <td>December 31, 2017</td>\n",
       "    </tr>\n",
       "    <tr>\n",
       "      <th>1</th>\n",
       "      <td>Drunk Bragging Trump Staffer Started Russian ...</td>\n",
       "      <td>House Intelligence Committee Chairman Devin Nu...</td>\n",
       "      <td>News</td>\n",
       "      <td>December 31, 2017</td>\n",
       "    </tr>\n",
       "    <tr>\n",
       "      <th>2</th>\n",
       "      <td>Sheriff David Clarke Becomes An Internet Joke...</td>\n",
       "      <td>On Friday, it was revealed that former Milwauk...</td>\n",
       "      <td>News</td>\n",
       "      <td>December 30, 2017</td>\n",
       "    </tr>\n",
       "    <tr>\n",
       "      <th>3</th>\n",
       "      <td>Trump Is So Obsessed He Even Has Obama’s Name...</td>\n",
       "      <td>On Christmas day, Donald Trump announced that ...</td>\n",
       "      <td>News</td>\n",
       "      <td>December 29, 2017</td>\n",
       "    </tr>\n",
       "    <tr>\n",
       "      <th>4</th>\n",
       "      <td>Pope Francis Just Called Out Donald Trump Dur...</td>\n",
       "      <td>Pope Francis used his annual Christmas Day mes...</td>\n",
       "      <td>News</td>\n",
       "      <td>December 25, 2017</td>\n",
       "    </tr>\n",
       "  </tbody>\n",
       "</table>\n",
       "</div>"
      ],
      "text/plain": [
       "                                               title  \\\n",
       "0   Donald Trump Sends Out Embarrassing New Year’...   \n",
       "1   Drunk Bragging Trump Staffer Started Russian ...   \n",
       "2   Sheriff David Clarke Becomes An Internet Joke...   \n",
       "3   Trump Is So Obsessed He Even Has Obama’s Name...   \n",
       "4   Pope Francis Just Called Out Donald Trump Dur...   \n",
       "\n",
       "                                                text subject  \\\n",
       "0  Donald Trump just couldn t wish all Americans ...    News   \n",
       "1  House Intelligence Committee Chairman Devin Nu...    News   \n",
       "2  On Friday, it was revealed that former Milwauk...    News   \n",
       "3  On Christmas day, Donald Trump announced that ...    News   \n",
       "4  Pope Francis used his annual Christmas Day mes...    News   \n",
       "\n",
       "                date  \n",
       "0  December 31, 2017  \n",
       "1  December 31, 2017  \n",
       "2  December 30, 2017  \n",
       "3  December 29, 2017  \n",
       "4  December 25, 2017  "
      ]
     },
     "execution_count": 2,
     "metadata": {},
     "output_type": "execute_result"
    }
   ],
   "source": [
    "# Fake News loaded\n",
    "fake = pd.read_csv('Fake.csv')\n",
    "fake.head()"
   ]
  },
  {
   "cell_type": "code",
   "execution_count": 3,
   "metadata": {
    "execution": {
     "iopub.execute_input": "2021-08-26T05:11:22.897172Z",
     "iopub.status.busy": "2021-08-26T05:11:22.896885Z",
     "iopub.status.idle": "2021-08-26T05:11:22.911392Z",
     "shell.execute_reply": "2021-08-26T05:11:22.910404Z",
     "shell.execute_reply.started": "2021-08-26T05:11:22.897142Z"
    }
   },
   "outputs": [
    {
     "data": {
      "text/html": [
       "<div>\n",
       "<style scoped>\n",
       "    .dataframe tbody tr th:only-of-type {\n",
       "        vertical-align: middle;\n",
       "    }\n",
       "\n",
       "    .dataframe tbody tr th {\n",
       "        vertical-align: top;\n",
       "    }\n",
       "\n",
       "    .dataframe thead th {\n",
       "        text-align: right;\n",
       "    }\n",
       "</style>\n",
       "<table border=\"1\" class=\"dataframe\">\n",
       "  <thead>\n",
       "    <tr style=\"text-align: right;\">\n",
       "      <th></th>\n",
       "      <th>title</th>\n",
       "      <th>text</th>\n",
       "      <th>subject</th>\n",
       "      <th>date</th>\n",
       "      <th>label</th>\n",
       "    </tr>\n",
       "  </thead>\n",
       "  <tbody>\n",
       "    <tr>\n",
       "      <th>0</th>\n",
       "      <td>Donald Trump Sends Out Embarrassing New Year’...</td>\n",
       "      <td>Donald Trump just couldn t wish all Americans ...</td>\n",
       "      <td>News</td>\n",
       "      <td>December 31, 2017</td>\n",
       "      <td>1</td>\n",
       "    </tr>\n",
       "    <tr>\n",
       "      <th>1</th>\n",
       "      <td>Drunk Bragging Trump Staffer Started Russian ...</td>\n",
       "      <td>House Intelligence Committee Chairman Devin Nu...</td>\n",
       "      <td>News</td>\n",
       "      <td>December 31, 2017</td>\n",
       "      <td>1</td>\n",
       "    </tr>\n",
       "    <tr>\n",
       "      <th>2</th>\n",
       "      <td>Sheriff David Clarke Becomes An Internet Joke...</td>\n",
       "      <td>On Friday, it was revealed that former Milwauk...</td>\n",
       "      <td>News</td>\n",
       "      <td>December 30, 2017</td>\n",
       "      <td>1</td>\n",
       "    </tr>\n",
       "    <tr>\n",
       "      <th>3</th>\n",
       "      <td>Trump Is So Obsessed He Even Has Obama’s Name...</td>\n",
       "      <td>On Christmas day, Donald Trump announced that ...</td>\n",
       "      <td>News</td>\n",
       "      <td>December 29, 2017</td>\n",
       "      <td>1</td>\n",
       "    </tr>\n",
       "    <tr>\n",
       "      <th>4</th>\n",
       "      <td>Pope Francis Just Called Out Donald Trump Dur...</td>\n",
       "      <td>Pope Francis used his annual Christmas Day mes...</td>\n",
       "      <td>News</td>\n",
       "      <td>December 25, 2017</td>\n",
       "      <td>1</td>\n",
       "    </tr>\n",
       "  </tbody>\n",
       "</table>\n",
       "</div>"
      ],
      "text/plain": [
       "                                               title  \\\n",
       "0   Donald Trump Sends Out Embarrassing New Year’...   \n",
       "1   Drunk Bragging Trump Staffer Started Russian ...   \n",
       "2   Sheriff David Clarke Becomes An Internet Joke...   \n",
       "3   Trump Is So Obsessed He Even Has Obama’s Name...   \n",
       "4   Pope Francis Just Called Out Donald Trump Dur...   \n",
       "\n",
       "                                                text subject  \\\n",
       "0  Donald Trump just couldn t wish all Americans ...    News   \n",
       "1  House Intelligence Committee Chairman Devin Nu...    News   \n",
       "2  On Friday, it was revealed that former Milwauk...    News   \n",
       "3  On Christmas day, Donald Trump announced that ...    News   \n",
       "4  Pope Francis used his annual Christmas Day mes...    News   \n",
       "\n",
       "                date  label  \n",
       "0  December 31, 2017      1  \n",
       "1  December 31, 2017      1  \n",
       "2  December 30, 2017      1  \n",
       "3  December 29, 2017      1  \n",
       "4  December 25, 2017      1  "
      ]
     },
     "execution_count": 3,
     "metadata": {},
     "output_type": "execute_result"
    }
   ],
   "source": [
    "# Fake news are labelled as 1\n",
    "fake['label'] = 1\n",
    "fake.head()"
   ]
  },
  {
   "cell_type": "code",
   "execution_count": 4,
   "metadata": {
    "execution": {
     "iopub.execute_input": "2021-08-26T05:11:22.913401Z",
     "iopub.status.busy": "2021-08-26T05:11:22.912999Z",
     "iopub.status.idle": "2021-08-26T05:11:24.204440Z",
     "shell.execute_reply": "2021-08-26T05:11:24.203275Z",
     "shell.execute_reply.started": "2021-08-26T05:11:22.913362Z"
    }
   },
   "outputs": [
    {
     "data": {
      "text/html": [
       "<div>\n",
       "<style scoped>\n",
       "    .dataframe tbody tr th:only-of-type {\n",
       "        vertical-align: middle;\n",
       "    }\n",
       "\n",
       "    .dataframe tbody tr th {\n",
       "        vertical-align: top;\n",
       "    }\n",
       "\n",
       "    .dataframe thead th {\n",
       "        text-align: right;\n",
       "    }\n",
       "</style>\n",
       "<table border=\"1\" class=\"dataframe\">\n",
       "  <thead>\n",
       "    <tr style=\"text-align: right;\">\n",
       "      <th></th>\n",
       "      <th>title</th>\n",
       "      <th>text</th>\n",
       "      <th>subject</th>\n",
       "      <th>date</th>\n",
       "    </tr>\n",
       "  </thead>\n",
       "  <tbody>\n",
       "    <tr>\n",
       "      <th>0</th>\n",
       "      <td>As U.S. budget fight looms, Republicans flip t...</td>\n",
       "      <td>WASHINGTON (Reuters) - The head of a conservat...</td>\n",
       "      <td>politicsNews</td>\n",
       "      <td>December 31, 2017</td>\n",
       "    </tr>\n",
       "    <tr>\n",
       "      <th>1</th>\n",
       "      <td>U.S. military to accept transgender recruits o...</td>\n",
       "      <td>WASHINGTON (Reuters) - Transgender people will...</td>\n",
       "      <td>politicsNews</td>\n",
       "      <td>December 29, 2017</td>\n",
       "    </tr>\n",
       "    <tr>\n",
       "      <th>2</th>\n",
       "      <td>Senior U.S. Republican senator: 'Let Mr. Muell...</td>\n",
       "      <td>WASHINGTON (Reuters) - The special counsel inv...</td>\n",
       "      <td>politicsNews</td>\n",
       "      <td>December 31, 2017</td>\n",
       "    </tr>\n",
       "    <tr>\n",
       "      <th>3</th>\n",
       "      <td>FBI Russia probe helped by Australian diplomat...</td>\n",
       "      <td>WASHINGTON (Reuters) - Trump campaign adviser ...</td>\n",
       "      <td>politicsNews</td>\n",
       "      <td>December 30, 2017</td>\n",
       "    </tr>\n",
       "    <tr>\n",
       "      <th>4</th>\n",
       "      <td>Trump wants Postal Service to charge 'much mor...</td>\n",
       "      <td>SEATTLE/WASHINGTON (Reuters) - President Donal...</td>\n",
       "      <td>politicsNews</td>\n",
       "      <td>December 29, 2017</td>\n",
       "    </tr>\n",
       "  </tbody>\n",
       "</table>\n",
       "</div>"
      ],
      "text/plain": [
       "                                               title  \\\n",
       "0  As U.S. budget fight looms, Republicans flip t...   \n",
       "1  U.S. military to accept transgender recruits o...   \n",
       "2  Senior U.S. Republican senator: 'Let Mr. Muell...   \n",
       "3  FBI Russia probe helped by Australian diplomat...   \n",
       "4  Trump wants Postal Service to charge 'much mor...   \n",
       "\n",
       "                                                text       subject  \\\n",
       "0  WASHINGTON (Reuters) - The head of a conservat...  politicsNews   \n",
       "1  WASHINGTON (Reuters) - Transgender people will...  politicsNews   \n",
       "2  WASHINGTON (Reuters) - The special counsel inv...  politicsNews   \n",
       "3  WASHINGTON (Reuters) - Trump campaign adviser ...  politicsNews   \n",
       "4  SEATTLE/WASHINGTON (Reuters) - President Donal...  politicsNews   \n",
       "\n",
       "                 date  \n",
       "0  December 31, 2017   \n",
       "1  December 29, 2017   \n",
       "2  December 31, 2017   \n",
       "3  December 30, 2017   \n",
       "4  December 29, 2017   "
      ]
     },
     "execution_count": 4,
     "metadata": {},
     "output_type": "execute_result"
    }
   ],
   "source": [
    "# True news loaded\n",
    "true = pd.read_csv('True.csv')\n",
    "true.head()"
   ]
  },
  {
   "cell_type": "code",
   "execution_count": 5,
   "metadata": {
    "execution": {
     "iopub.execute_input": "2021-08-26T05:11:24.206072Z",
     "iopub.status.busy": "2021-08-26T05:11:24.205688Z",
     "iopub.status.idle": "2021-08-26T05:11:24.227496Z",
     "shell.execute_reply": "2021-08-26T05:11:24.226578Z",
     "shell.execute_reply.started": "2021-08-26T05:11:24.206020Z"
    }
   },
   "outputs": [
    {
     "data": {
      "text/html": [
       "<div>\n",
       "<style scoped>\n",
       "    .dataframe tbody tr th:only-of-type {\n",
       "        vertical-align: middle;\n",
       "    }\n",
       "\n",
       "    .dataframe tbody tr th {\n",
       "        vertical-align: top;\n",
       "    }\n",
       "\n",
       "    .dataframe thead th {\n",
       "        text-align: right;\n",
       "    }\n",
       "</style>\n",
       "<table border=\"1\" class=\"dataframe\">\n",
       "  <thead>\n",
       "    <tr style=\"text-align: right;\">\n",
       "      <th></th>\n",
       "      <th>title</th>\n",
       "      <th>text</th>\n",
       "      <th>subject</th>\n",
       "      <th>date</th>\n",
       "      <th>label</th>\n",
       "    </tr>\n",
       "  </thead>\n",
       "  <tbody>\n",
       "    <tr>\n",
       "      <th>0</th>\n",
       "      <td>As U.S. budget fight looms, Republicans flip t...</td>\n",
       "      <td>WASHINGTON (Reuters) - The head of a conservat...</td>\n",
       "      <td>politicsNews</td>\n",
       "      <td>December 31, 2017</td>\n",
       "      <td>0</td>\n",
       "    </tr>\n",
       "    <tr>\n",
       "      <th>1</th>\n",
       "      <td>U.S. military to accept transgender recruits o...</td>\n",
       "      <td>WASHINGTON (Reuters) - Transgender people will...</td>\n",
       "      <td>politicsNews</td>\n",
       "      <td>December 29, 2017</td>\n",
       "      <td>0</td>\n",
       "    </tr>\n",
       "    <tr>\n",
       "      <th>2</th>\n",
       "      <td>Senior U.S. Republican senator: 'Let Mr. Muell...</td>\n",
       "      <td>WASHINGTON (Reuters) - The special counsel inv...</td>\n",
       "      <td>politicsNews</td>\n",
       "      <td>December 31, 2017</td>\n",
       "      <td>0</td>\n",
       "    </tr>\n",
       "    <tr>\n",
       "      <th>3</th>\n",
       "      <td>FBI Russia probe helped by Australian diplomat...</td>\n",
       "      <td>WASHINGTON (Reuters) - Trump campaign adviser ...</td>\n",
       "      <td>politicsNews</td>\n",
       "      <td>December 30, 2017</td>\n",
       "      <td>0</td>\n",
       "    </tr>\n",
       "    <tr>\n",
       "      <th>4</th>\n",
       "      <td>Trump wants Postal Service to charge 'much mor...</td>\n",
       "      <td>SEATTLE/WASHINGTON (Reuters) - President Donal...</td>\n",
       "      <td>politicsNews</td>\n",
       "      <td>December 29, 2017</td>\n",
       "      <td>0</td>\n",
       "    </tr>\n",
       "  </tbody>\n",
       "</table>\n",
       "</div>"
      ],
      "text/plain": [
       "                                               title  \\\n",
       "0  As U.S. budget fight looms, Republicans flip t...   \n",
       "1  U.S. military to accept transgender recruits o...   \n",
       "2  Senior U.S. Republican senator: 'Let Mr. Muell...   \n",
       "3  FBI Russia probe helped by Australian diplomat...   \n",
       "4  Trump wants Postal Service to charge 'much mor...   \n",
       "\n",
       "                                                text       subject  \\\n",
       "0  WASHINGTON (Reuters) - The head of a conservat...  politicsNews   \n",
       "1  WASHINGTON (Reuters) - Transgender people will...  politicsNews   \n",
       "2  WASHINGTON (Reuters) - The special counsel inv...  politicsNews   \n",
       "3  WASHINGTON (Reuters) - Trump campaign adviser ...  politicsNews   \n",
       "4  SEATTLE/WASHINGTON (Reuters) - President Donal...  politicsNews   \n",
       "\n",
       "                 date  label  \n",
       "0  December 31, 2017       0  \n",
       "1  December 29, 2017       0  \n",
       "2  December 31, 2017       0  \n",
       "3  December 30, 2017       0  \n",
       "4  December 29, 2017       0  "
      ]
     },
     "execution_count": 5,
     "metadata": {},
     "output_type": "execute_result"
    }
   ],
   "source": [
    "# True news labelled as 0\n",
    "true['label'] = 0\n",
    "true.head()"
   ]
  },
  {
   "cell_type": "code",
   "execution_count": 6,
   "metadata": {
    "execution": {
     "iopub.execute_input": "2021-08-26T05:11:24.232028Z",
     "iopub.status.busy": "2021-08-26T05:11:24.231499Z",
     "iopub.status.idle": "2021-08-26T05:11:24.239263Z",
     "shell.execute_reply": "2021-08-26T05:11:24.238176Z",
     "shell.execute_reply.started": "2021-08-26T05:11:24.231981Z"
    }
   },
   "outputs": [
    {
     "data": {
      "text/plain": [
       "(21417, 23481)"
      ]
     },
     "execution_count": 6,
     "metadata": {},
     "output_type": "execute_result"
    }
   ],
   "source": [
    "len(true), len(fake)"
   ]
  },
  {
   "cell_type": "code",
   "execution_count": 7,
   "metadata": {
    "execution": {
     "iopub.execute_input": "2021-08-26T05:11:24.241859Z",
     "iopub.status.busy": "2021-08-26T05:11:24.241450Z",
     "iopub.status.idle": "2021-08-26T05:11:24.263870Z",
     "shell.execute_reply": "2021-08-26T05:11:24.262732Z",
     "shell.execute_reply.started": "2021-08-26T05:11:24.241816Z"
    }
   },
   "outputs": [
    {
     "data": {
      "text/html": [
       "<div>\n",
       "<style scoped>\n",
       "    .dataframe tbody tr th:only-of-type {\n",
       "        vertical-align: middle;\n",
       "    }\n",
       "\n",
       "    .dataframe tbody tr th {\n",
       "        vertical-align: top;\n",
       "    }\n",
       "\n",
       "    .dataframe thead th {\n",
       "        text-align: right;\n",
       "    }\n",
       "</style>\n",
       "<table border=\"1\" class=\"dataframe\">\n",
       "  <thead>\n",
       "    <tr style=\"text-align: right;\">\n",
       "      <th></th>\n",
       "      <th>title</th>\n",
       "      <th>text</th>\n",
       "      <th>subject</th>\n",
       "      <th>date</th>\n",
       "      <th>label</th>\n",
       "    </tr>\n",
       "  </thead>\n",
       "  <tbody>\n",
       "    <tr>\n",
       "      <th>0</th>\n",
       "      <td>Ted Nugent Breaks Civility Pledge With Unhing...</td>\n",
       "      <td>After GOP Rep. Steve Scalise was shot during a...</td>\n",
       "      <td>News</td>\n",
       "      <td>July 29, 2017</td>\n",
       "      <td>1</td>\n",
       "    </tr>\n",
       "    <tr>\n",
       "      <th>1</th>\n",
       "      <td>Factbox: Trump on Twitter (Nov 27) - Networks</td>\n",
       "      <td>The following statements were posted to the ve...</td>\n",
       "      <td>politicsNews</td>\n",
       "      <td>November 27, 2017</td>\n",
       "      <td>0</td>\n",
       "    </tr>\n",
       "    <tr>\n",
       "      <th>2</th>\n",
       "      <td>Chaos Ensues After Man Accidentally Shoots Hi...</td>\n",
       "      <td>Maybe  thoughts and prayers  aren t the remedy...</td>\n",
       "      <td>News</td>\n",
       "      <td>November 17, 2017</td>\n",
       "      <td>1</td>\n",
       "    </tr>\n",
       "    <tr>\n",
       "      <th>3</th>\n",
       "      <td>Mother Of DACA Recipient Who Died Rescuing Fl...</td>\n",
       "      <td>Donald Trump is set to end the Deferred Action...</td>\n",
       "      <td>News</td>\n",
       "      <td>September 4, 2017</td>\n",
       "      <td>1</td>\n",
       "    </tr>\n",
       "    <tr>\n",
       "      <th>4</th>\n",
       "      <td>Republican Senator Corker says cannot support ...</td>\n",
       "      <td>WASHINGTON (Reuters) - U.S. Republican Senator...</td>\n",
       "      <td>politicsNews</td>\n",
       "      <td>December 1, 2017</td>\n",
       "      <td>0</td>\n",
       "    </tr>\n",
       "  </tbody>\n",
       "</table>\n",
       "</div>"
      ],
      "text/plain": [
       "                                               title  \\\n",
       "0   Ted Nugent Breaks Civility Pledge With Unhing...   \n",
       "1      Factbox: Trump on Twitter (Nov 27) - Networks   \n",
       "2   Chaos Ensues After Man Accidentally Shoots Hi...   \n",
       "3   Mother Of DACA Recipient Who Died Rescuing Fl...   \n",
       "4  Republican Senator Corker says cannot support ...   \n",
       "\n",
       "                                                text       subject  \\\n",
       "0  After GOP Rep. Steve Scalise was shot during a...          News   \n",
       "1  The following statements were posted to the ve...  politicsNews   \n",
       "2  Maybe  thoughts and prayers  aren t the remedy...          News   \n",
       "3  Donald Trump is set to end the Deferred Action...          News   \n",
       "4  WASHINGTON (Reuters) - U.S. Republican Senator...  politicsNews   \n",
       "\n",
       "                 date  label  \n",
       "0       July 29, 2017      1  \n",
       "1  November 27, 2017       0  \n",
       "2   November 17, 2017      1  \n",
       "3   September 4, 2017      1  \n",
       "4   December 1, 2017       0  "
      ]
     },
     "execution_count": 7,
     "metadata": {},
     "output_type": "execute_result"
    }
   ],
   "source": [
    "# Both fake and true news are combined and first 2000 data points are only selected\n",
    "df = pd.concat([fake.iloc[:1000,:],true.iloc[:1000,:]], axis=0)\n",
    "df = df.sample(len(df))\n",
    "df = df.reset_index(drop=True)\n",
    "df.head()"
   ]
  },
  {
   "cell_type": "code",
   "execution_count": 8,
   "metadata": {
    "execution": {
     "iopub.execute_input": "2021-08-26T05:11:24.265869Z",
     "iopub.status.busy": "2021-08-26T05:11:24.265440Z",
     "iopub.status.idle": "2021-08-26T05:11:24.415877Z",
     "shell.execute_reply": "2021-08-26T05:11:24.414924Z",
     "shell.execute_reply.started": "2021-08-26T05:11:24.265827Z"
    }
   },
   "outputs": [
    {
     "data": {
      "text/html": [
       "<div>\n",
       "<style scoped>\n",
       "    .dataframe tbody tr th:only-of-type {\n",
       "        vertical-align: middle;\n",
       "    }\n",
       "\n",
       "    .dataframe tbody tr th {\n",
       "        vertical-align: top;\n",
       "    }\n",
       "\n",
       "    .dataframe thead th {\n",
       "        text-align: right;\n",
       "    }\n",
       "</style>\n",
       "<table border=\"1\" class=\"dataframe\">\n",
       "  <thead>\n",
       "    <tr style=\"text-align: right;\">\n",
       "      <th></th>\n",
       "      <th>text</th>\n",
       "      <th>label</th>\n",
       "    </tr>\n",
       "  </thead>\n",
       "  <tbody>\n",
       "    <tr>\n",
       "      <th>0</th>\n",
       "      <td>Ted Nugent Breaks Civility Pledge With Unhing...</td>\n",
       "      <td>1</td>\n",
       "    </tr>\n",
       "    <tr>\n",
       "      <th>1</th>\n",
       "      <td>Factbox: Trump on Twitter (Nov 27) - NetworksT...</td>\n",
       "      <td>0</td>\n",
       "    </tr>\n",
       "    <tr>\n",
       "      <th>2</th>\n",
       "      <td>Chaos Ensues After Man Accidentally Shoots Hi...</td>\n",
       "      <td>1</td>\n",
       "    </tr>\n",
       "    <tr>\n",
       "      <th>3</th>\n",
       "      <td>Mother Of DACA Recipient Who Died Rescuing Fl...</td>\n",
       "      <td>1</td>\n",
       "    </tr>\n",
       "    <tr>\n",
       "      <th>4</th>\n",
       "      <td>Republican Senator Corker says cannot support ...</td>\n",
       "      <td>0</td>\n",
       "    </tr>\n",
       "  </tbody>\n",
       "</table>\n",
       "</div>"
      ],
      "text/plain": [
       "                                                text  label\n",
       "0   Ted Nugent Breaks Civility Pledge With Unhing...      1\n",
       "1  Factbox: Trump on Twitter (Nov 27) - NetworksT...      0\n",
       "2   Chaos Ensues After Man Accidentally Shoots Hi...      1\n",
       "3   Mother Of DACA Recipient Who Died Rescuing Fl...      1\n",
       "4  Republican Senator Corker says cannot support ...      0"
      ]
     },
     "execution_count": 8,
     "metadata": {},
     "output_type": "execute_result"
    }
   ],
   "source": [
    "# Text & Title columns are combined and other columns except label are dropped\n",
    "df.text = df.title + df.text\n",
    "df = df[['text','label']]\n",
    "df.head()"
   ]
  },
  {
   "cell_type": "code",
   "execution_count": 9,
   "metadata": {
    "execution": {
     "iopub.execute_input": "2021-08-26T05:11:24.417429Z",
     "iopub.status.busy": "2021-08-26T05:11:24.417097Z",
     "iopub.status.idle": "2021-08-26T05:11:24.423048Z",
     "shell.execute_reply": "2021-08-26T05:11:24.422072Z",
     "shell.execute_reply.started": "2021-08-26T05:11:24.417401Z"
    }
   },
   "outputs": [],
   "source": [
    "X = df.text\n",
    "y = df.label"
   ]
  },
  {
   "cell_type": "markdown",
   "metadata": {
    "execution": {
     "iopub.execute_input": "2021-08-25T17:10:27.521493Z",
     "iopub.status.busy": "2021-08-25T17:10:27.521146Z",
     "iopub.status.idle": "2021-08-25T17:10:27.53535Z",
     "shell.execute_reply": "2021-08-25T17:10:27.534245Z",
     "shell.execute_reply.started": "2021-08-25T17:10:27.521465Z"
    }
   },
   "source": [
    "## Processing"
   ]
  },
  {
   "cell_type": "code",
   "execution_count": 10,
   "metadata": {
    "execution": {
     "iopub.execute_input": "2021-08-26T05:11:24.425283Z",
     "iopub.status.busy": "2021-08-26T05:11:24.424955Z",
     "iopub.status.idle": "2021-08-26T05:13:35.727119Z",
     "shell.execute_reply": "2021-08-26T05:13:35.726253Z",
     "shell.execute_reply.started": "2021-08-26T05:11:24.425240Z"
    }
   },
   "outputs": [],
   "source": [
    "# Data processing is done\n",
    "corpus = []\n",
    "ps = PorterStemmer()\n",
    "\n",
    "for i in X:\n",
    "    # Except alphabets, everything is removed\n",
    "    new = re.sub('[^a-zA-Z]', ' ',i)\n",
    "    # Converted to lower case\n",
    "    new = new.lower()\n",
    "    # Word tolenizing done\n",
    "    new = nltk.word_tokenize(new)\n",
    "    # English stop words are removed\n",
    "    new = [ps.stem(i) for i in new if i not in stopwords.words('english')]\n",
    "    new = ' '.join(new)\n",
    "    corpus.append(new)"
   ]
  },
  {
   "cell_type": "code",
   "execution_count": 11,
   "metadata": {
    "execution": {
     "iopub.execute_input": "2021-08-26T05:13:35.728412Z",
     "iopub.status.busy": "2021-08-26T05:13:35.728145Z",
     "iopub.status.idle": "2021-08-26T05:13:35.739398Z",
     "shell.execute_reply": "2021-08-26T05:13:35.738373Z",
     "shell.execute_reply.started": "2021-08-26T05:13:35.728385Z"
    }
   },
   "outputs": [],
   "source": [
    "# Splitting into train and test data\n",
    "X_train,X_test, y_train,y_test = train_test_split(corpus,y, train_size=0.7, random_state=100, stratify=y)"
   ]
  },
  {
   "cell_type": "code",
   "execution_count": 12,
   "metadata": {
    "execution": {
     "iopub.execute_input": "2021-08-26T05:13:35.740937Z",
     "iopub.status.busy": "2021-08-26T05:13:35.740649Z",
     "iopub.status.idle": "2021-08-26T05:13:35.747372Z",
     "shell.execute_reply": "2021-08-26T05:13:35.746493Z",
     "shell.execute_reply.started": "2021-08-26T05:13:35.740911Z"
    }
   },
   "outputs": [],
   "source": [
    "# 2 models are considered included in a pipeline to produce bag of words\n",
    "mnb = Pipeline([('cnt_vec', CountVectorizer()),\n",
    "               ('mnb', MultinomialNB())])\n",
    "\n",
    "bnb = Pipeline([('cnt_vec', CountVectorizer()),\n",
    "               ('bnb', BernoulliNB())])\n",
    "\n",
    "folds = StratifiedKFold(n_splits=5, shuffle=True, random_state=52)"
   ]
  },
  {
   "cell_type": "code",
   "execution_count": 13,
   "metadata": {
    "execution": {
     "iopub.execute_input": "2021-08-26T05:13:35.749283Z",
     "iopub.status.busy": "2021-08-26T05:13:35.748979Z",
     "iopub.status.idle": "2021-08-26T05:13:37.894223Z",
     "shell.execute_reply": "2021-08-26T05:13:37.893266Z",
     "shell.execute_reply.started": "2021-08-26T05:13:35.749256Z"
    }
   },
   "outputs": [
    {
     "data": {
      "text/plain": [
       "0.9671428571428571"
      ]
     },
     "execution_count": 13,
     "metadata": {},
     "output_type": "execute_result"
    }
   ],
   "source": [
    "# Cross validation for first model\n",
    "cv_mnb = cross_val_score(mnb,X_train,y_train,cv=folds)\n",
    "cv_mnb.mean()"
   ]
  },
  {
   "cell_type": "code",
   "execution_count": 14,
   "metadata": {
    "execution": {
     "iopub.execute_input": "2021-08-26T05:13:37.895638Z",
     "iopub.status.busy": "2021-08-26T05:13:37.895354Z",
     "iopub.status.idle": "2021-08-26T05:13:40.038877Z",
     "shell.execute_reply": "2021-08-26T05:13:40.038017Z",
     "shell.execute_reply.started": "2021-08-26T05:13:37.895613Z"
    }
   },
   "outputs": [
    {
     "data": {
      "text/plain": [
       "0.987857142857143"
      ]
     },
     "execution_count": 14,
     "metadata": {},
     "output_type": "execute_result"
    }
   ],
   "source": [
    "# Cross validation for second model\n",
    "cv_bnb = cross_val_score(bnb,X_train,y_train,cv=folds)\n",
    "cv_bnb.mean()"
   ]
  },
  {
   "cell_type": "code",
   "execution_count": 15,
   "metadata": {
    "execution": {
     "iopub.execute_input": "2021-08-26T05:13:40.040366Z",
     "iopub.status.busy": "2021-08-26T05:13:40.040059Z",
     "iopub.status.idle": "2021-08-26T05:14:02.134224Z",
     "shell.execute_reply": "2021-08-26T05:14:02.133274Z",
     "shell.execute_reply.started": "2021-08-26T05:13:40.040336Z"
    }
   },
   "outputs": [
    {
     "name": "stdout",
     "output_type": "stream",
     "text": [
      "Fitting 5 folds for each of 8 candidates, totalling 40 fits\n"
     ]
    },
    {
     "name": "stderr",
     "output_type": "stream",
     "text": [
      "/home/tuhin/.local/lib/python3.9/site-packages/sklearn/model_selection/_search.py:918: UserWarning: One or more of the test scores are non-finite: [0.96714286 0.97857143        nan 0.98785714 0.98785714 0.99357143\n",
      "        nan 0.99285714]\n",
      "  warnings.warn(\n",
      "/home/tuhin/.local/lib/python3.9/site-packages/sklearn/model_selection/_search.py:918: UserWarning: One or more of the train scores are non-finite: [0.99035714 1.                nan 1.         0.9975     1.\n",
      "        nan 1.        ]\n",
      "  warnings.warn(\n"
     ]
    },
    {
     "data": {
      "text/plain": [
       "GridSearchCV(cv=StratifiedKFold(n_splits=5, random_state=52, shuffle=True),\n",
       "             estimator=Pipeline(steps=[('classifier',\n",
       "                                        Pipeline(steps=[('cnt_vec',\n",
       "                                                         CountVectorizer()),\n",
       "                                                        ('mnb',\n",
       "                                                         MultinomialNB())]))]),\n",
       "             n_jobs=-1,\n",
       "             param_grid=[{'classifier': [Pipeline(steps=[('cnt_vec',\n",
       "                                                          CountVectorizer()),\n",
       "                                                         ('mnb',\n",
       "                                                          MultinomialNB())])],\n",
       "                          'classifier__cnt_vec__ngram_range': [(1, 1), (1, 2),\n",
       "                                                               (2, 1),\n",
       "                                                               (2, 2)]},\n",
       "                         {'classifier': [Pipeline(steps=[('cnt_vec',\n",
       "                                                          CountVectorizer(ngram_range=(1,\n",
       "                                                                                       2))),\n",
       "                                                         ('bnb',\n",
       "                                                          BernoulliNB())])],\n",
       "                          'classifier__cnt_vec__ngram_range': [(1, 1), (1, 2),\n",
       "                                                               (2, 1),\n",
       "                                                               (2, 2)]}],\n",
       "             return_train_score=True, scoring='accuracy', verbose=3)"
      ]
     },
     "execution_count": 15,
     "metadata": {},
     "output_type": "execute_result"
    }
   ],
   "source": [
    "# Hyperparameter tuning to find the best model and parameters\n",
    "classifier = Pipeline([('classifier', mnb)])\n",
    "\n",
    "hyp = [{'classifier':[mnb],\n",
    "       'classifier__cnt_vec__ngram_range':[(1,1),(1,2),(2,1),(2,2)]},\n",
    "      {'classifier':[bnb],\n",
    "       'classifier__cnt_vec__ngram_range':[(1,1),(1,2),(2,1),(2,2)]}]\n",
    "\n",
    "grid = GridSearchCV(estimator=classifier, param_grid=hyp, cv=folds, n_jobs=-1, scoring='accuracy',\n",
    "                   verbose=3, return_train_score=True)\n",
    "grid.fit(X_train,y_train)"
   ]
  },
  {
   "cell_type": "code",
   "execution_count": 16,
   "metadata": {
    "execution": {
     "iopub.execute_input": "2021-08-26T05:14:02.135940Z",
     "iopub.status.busy": "2021-08-26T05:14:02.135639Z",
     "iopub.status.idle": "2021-08-26T05:14:02.158929Z",
     "shell.execute_reply": "2021-08-26T05:14:02.157799Z",
     "shell.execute_reply.started": "2021-08-26T05:14:02.135909Z"
    }
   },
   "outputs": [
    {
     "data": {
      "text/plain": [
       "(Pipeline(steps=[('classifier',\n",
       "                  Pipeline(steps=[('cnt_vec',\n",
       "                                   CountVectorizer(ngram_range=(1, 2))),\n",
       "                                  ('bnb', BernoulliNB())]))]),\n",
       " 0.9935714285714287)"
      ]
     },
     "execution_count": 16,
     "metadata": {},
     "output_type": "execute_result"
    }
   ],
   "source": [
    "grid.best_estimator_, grid.best_score_"
   ]
  },
  {
   "cell_type": "code",
   "execution_count": 17,
   "metadata": {
    "execution": {
     "iopub.execute_input": "2021-08-26T05:14:02.160588Z",
     "iopub.status.busy": "2021-08-26T05:14:02.160222Z",
     "iopub.status.idle": "2021-08-26T05:14:02.167740Z",
     "shell.execute_reply": "2021-08-26T05:14:02.166745Z",
     "shell.execute_reply.started": "2021-08-26T05:14:02.160544Z"
    }
   },
   "outputs": [],
   "source": [
    "model = grid.best_estimator_"
   ]
  },
  {
   "cell_type": "code",
   "execution_count": 18,
   "metadata": {
    "execution": {
     "iopub.execute_input": "2021-08-26T05:14:02.170710Z",
     "iopub.status.busy": "2021-08-26T05:14:02.170396Z",
     "iopub.status.idle": "2021-08-26T05:14:04.178917Z",
     "shell.execute_reply": "2021-08-26T05:14:04.177817Z",
     "shell.execute_reply.started": "2021-08-26T05:14:02.170682Z"
    }
   },
   "outputs": [
    {
     "name": "stdout",
     "output_type": "stream",
     "text": [
      "Accuracy of test data = 99.66666666666667 %\n"
     ]
    }
   ],
   "source": [
    "# Final training of model\n",
    "model.fit(X_train,y_train)\n",
    "y_test_pred = model.predict(X_test)\n",
    "print('Accuracy of test data =',100*accuracy_score(y_test, y_test_pred),'%')"
   ]
  },
  {
   "cell_type": "code",
   "execution_count": 19,
   "metadata": {
    "execution": {
     "iopub.execute_input": "2021-08-26T05:29:16.573356Z",
     "iopub.status.busy": "2021-08-26T05:29:16.572920Z",
     "iopub.status.idle": "2021-08-26T05:29:16.755111Z",
     "shell.execute_reply": "2021-08-26T05:29:16.754314Z",
     "shell.execute_reply.started": "2021-08-26T05:29:16.573317Z"
    }
   },
   "outputs": [
    {
     "data": {
      "image/png": "[encoded data removed]",
      "text/plain": [
       "<Figure size 432x288 with 2 Axes>"
      ]
     },
     "metadata": {
      "needs_background": "light"
     },
     "output_type": "display_data"
    }
   ],
   "source": [
    "conf = confusion_matrix(y_test, y_test_pred)\n",
    "sns.heatmap(conf, annot=True)\n",
    "plt.show()"
   ]
  },
  {
   "cell_type": "code",
   "execution_count": 20,
   "metadata": {
    "execution": {
     "iopub.execute_input": "2021-08-26T05:41:45.128076Z",
     "iopub.status.busy": "2021-08-26T05:41:45.127448Z",
     "iopub.status.idle": "2021-08-26T05:41:45.686181Z",
     "shell.execute_reply": "2021-08-26T05:41:45.685477Z",
     "shell.execute_reply.started": "2021-08-26T05:41:45.128041Z"
    }
   },
   "outputs": [
    {
     "data": {
      "image/png": "[encoded data removed]",
      "text/plain": [
       "<Figure size 432x288 with 1 Axes>"
      ]
     },
     "metadata": {
      "needs_background": "light"
     },
     "output_type": "display_data"
    }
   ],
   "source": [
    "y_test_proba = [i[1] for i in model.predict_proba(X_test)]\n",
    "\n",
    "auc = roc_auc_score(y_test,y_test_proba)\n",
    "fpr,tpr,thresh = roc_curve(y_test,y_test_proba)\n",
    "plt.plot(fpr,tpr)\n",
    "plt.xlabel('FPR')\n",
    "plt.ylabel('TPR')\n",
    "plt.legend(('AUC Score = {}%'.format(round(auc,2)),),loc='lower right')\n",
    "plt.show()"
   ]
  },
  {
   "cell_type": "code",
   "execution_count": 21,
   "metadata": {
    "execution": {
     "iopub.execute_input": "2021-08-26T05:28:29.139639Z",
     "iopub.status.busy": "2021-08-26T05:28:29.139253Z",
     "iopub.status.idle": "2021-08-26T05:28:30.104170Z",
     "shell.execute_reply": "2021-08-26T05:28:30.103422Z",
     "shell.execute_reply.started": "2021-08-26T05:28:29.139597Z"
    }
   },
   "outputs": [
    {
     "name": "stderr",
     "output_type": "stream",
     "text": [
      "/home/tuhin/.local/lib/python3.9/site-packages/sklearn/utils/deprecation.py:101: FutureWarning: Attribute coef_ was deprecated in version 0.24 and will be removed in 1.1 (renaming of 0.26).\n",
      "  warnings.warn(msg, category=FutureWarning)\n"
     ]
    },
    {
     "data": {
      "image/png": "[encoded data removed]",
      "text/plain": [
       "<Figure size 1440x576 with 1 Axes>"
      ]
     },
     "metadata": {
      "needs_background": "light"
     },
     "output_type": "display_data"
    },
    {
     "data": {
      "image/png": "[encoded data removed]",
      "text/plain": [
       "<Figure size 1440x576 with 1 Axes>"
      ]
     },
     "metadata": {
      "needs_background": "light"
     },
     "output_type": "display_data"
    }
   ],
   "source": [
    "imp = pd.DataFrame({'features':model['classifier']['cnt_vec'].get_feature_names(), 'coef':model['classifier']['bnb'].coef_[0]})\n",
    "\n",
    "top20 = imp.sort_values('coef',ascending=False).iloc[:20,:]\n",
    "down20 = imp.sort_values('coef').iloc[:20,:]\n",
    "\n",
    "plt.figure(figsize=(20,8))\n",
    "plt.bar(top20.features,top20.coef)\n",
    "plt.title('Top 20 words in true news', fontsize=24)\n",
    "plt.show()\n",
    "\n",
    "plt.figure(figsize=(20,8))\n",
    "plt.bar(down20.features,down20.coef)\n",
    "plt.title('Top 20 words in false news', fontsize=24)\n",
    "plt.xticks(rotation=90)\n",
    "plt.show()"
   ]
  },
  {
   "cell_type": "code",
   "execution_count": null,
   "metadata": {},
   "outputs": [],
   "source": []
  },
  {
   "cell_type": "code",
   "execution_count": null,
   "metadata": {},
   "outputs": [],
   "source": []
  },
  {
   "cell_type": "code",
   "execution_count": 23,
   "metadata": {},
   "outputs": [],
   "source": [
    "import pickle\n",
    "filename = 'fake_news_model'\n",
    "outfile = open(filename,'wb')\n",
    "pickle.dump(model,outfile)\n",
    "outfile.close()"
   ]
  },
  {
   "cell_type": "code",
   "execution_count": null,
   "metadata": {},
   "outputs": [],
   "source": []
  }
 ],
 "metadata": {
  "kernelspec": {
   "display_name": "Python 3",
   "language": "python",
   "name": "python3"
  },
  "language_info": {
   "codemirror_mode": {
    "name": "ipython",
    "version": 3
   },
   "file_extension": ".py",
   "mimetype": "text/x-python",
   "name": "python",
   "nbconvert_exporter": "python",
   "pygments_lexer": "ipython3",
   "version": "3.9.5"
  }
 },
 "nbformat": 4,
 "nbformat_minor": 4
}
